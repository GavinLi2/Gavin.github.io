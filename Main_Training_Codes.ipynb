{
  "nbformat": 4,
  "nbformat_minor": 0,
  "metadata": {
    "kernelspec": {
      "display_name": "Python 3",
      "language": "python",
      "name": "python3"
    },
    "language_info": {
      "codemirror_mode": {
        "name": "ipython",
        "version": 3
      },
      "file_extension": ".py",
      "mimetype": "text/x-python",
      "name": "python",
      "nbconvert_exporter": "python",
      "pygments_lexer": "ipython3",
      "version": "3.7.3"
    },
    "colab": {
      "name": "ML_diplay.ipynb",
      "provenance": [],
      "collapsed_sections": [],
      "machine_shape": "hm",
      "include_colab_link": true
    },
    "widgets": {
      "application/vnd.jupyter.widget-state+json": {
        "4befb238dac749a5bf0eeff1eba7e47a": {
          "model_module": "@jupyter-widgets/controls",
          "model_name": "HBoxModel",
          "state": {
            "_view_name": "HBoxView",
            "_dom_classes": [],
            "_model_name": "HBoxModel",
            "_view_module": "@jupyter-widgets/controls",
            "_model_module_version": "1.5.0",
            "_view_count": null,
            "_view_module_version": "1.5.0",
            "box_style": "",
            "layout": "IPY_MODEL_a68765aa970b402cb81b757745b5bcd1",
            "_model_module": "@jupyter-widgets/controls",
            "children": [
              "IPY_MODEL_0c2eb5fc612747caa07e18fa7f16ae1c",
              "IPY_MODEL_2dee02445166474cb514f7ad16ae3941"
            ]
          }
        },
        "a68765aa970b402cb81b757745b5bcd1": {
          "model_module": "@jupyter-widgets/base",
          "model_name": "LayoutModel",
          "state": {
            "_view_name": "LayoutView",
            "grid_template_rows": null,
            "right": null,
            "justify_content": null,
            "_view_module": "@jupyter-widgets/base",
            "overflow": null,
            "_model_module_version": "1.2.0",
            "_view_count": null,
            "flex_flow": null,
            "width": null,
            "min_width": null,
            "border": null,
            "align_items": null,
            "bottom": null,
            "_model_module": "@jupyter-widgets/base",
            "top": null,
            "grid_column": null,
            "overflow_y": null,
            "overflow_x": null,
            "grid_auto_flow": null,
            "grid_area": null,
            "grid_template_columns": null,
            "flex": null,
            "_model_name": "LayoutModel",
            "justify_items": null,
            "grid_row": null,
            "max_height": null,
            "align_content": null,
            "visibility": null,
            "align_self": null,
            "height": null,
            "min_height": null,
            "padding": null,
            "grid_auto_rows": null,
            "grid_gap": null,
            "max_width": null,
            "order": null,
            "_view_module_version": "1.2.0",
            "grid_template_areas": null,
            "object_position": null,
            "object_fit": null,
            "grid_auto_columns": null,
            "margin": null,
            "display": null,
            "left": null
          }
        },
        "0c2eb5fc612747caa07e18fa7f16ae1c": {
          "model_module": "@jupyter-widgets/controls",
          "model_name": "FloatProgressModel",
          "state": {
            "_view_name": "ProgressView",
            "style": "IPY_MODEL_a5ced1f881fc4b4a9b38ea7c01a7202e",
            "_dom_classes": [],
            "description": "100%",
            "_model_name": "FloatProgressModel",
            "bar_style": "",
            "max": 12,
            "_view_module": "@jupyter-widgets/controls",
            "_model_module_version": "1.5.0",
            "value": 12,
            "_view_count": null,
            "_view_module_version": "1.5.0",
            "orientation": "horizontal",
            "min": 0,
            "description_tooltip": null,
            "_model_module": "@jupyter-widgets/controls",
            "layout": "IPY_MODEL_ba3c21c04af34478a7a50f0ec08785f2"
          }
        },
        "2dee02445166474cb514f7ad16ae3941": {
          "model_module": "@jupyter-widgets/controls",
          "model_name": "HTMLModel",
          "state": {
            "_view_name": "HTMLView",
            "style": "IPY_MODEL_855d24b7120d4e55a3bbd19535863745",
            "_dom_classes": [],
            "description": "",
            "_model_name": "HTMLModel",
            "placeholder": "​",
            "_view_module": "@jupyter-widgets/controls",
            "_model_module_version": "1.5.0",
            "value": " 12/12 [00:16&lt;00:00,  3.27s/it]",
            "_view_count": null,
            "_view_module_version": "1.5.0",
            "description_tooltip": null,
            "_model_module": "@jupyter-widgets/controls",
            "layout": "IPY_MODEL_b10b4acc1c01437981eec9f9742e34f0"
          }
        },
        "a5ced1f881fc4b4a9b38ea7c01a7202e": {
          "model_module": "@jupyter-widgets/controls",
          "model_name": "ProgressStyleModel",
          "state": {
            "_view_name": "StyleView",
            "_model_name": "ProgressStyleModel",
            "description_width": "initial",
            "_view_module": "@jupyter-widgets/base",
            "_model_module_version": "1.5.0",
            "_view_count": null,
            "_view_module_version": "1.2.0",
            "bar_color": null,
            "_model_module": "@jupyter-widgets/controls"
          }
        },
        "ba3c21c04af34478a7a50f0ec08785f2": {
          "model_module": "@jupyter-widgets/base",
          "model_name": "LayoutModel",
          "state": {
            "_view_name": "LayoutView",
            "grid_template_rows": null,
            "right": null,
            "justify_content": null,
            "_view_module": "@jupyter-widgets/base",
            "overflow": null,
            "_model_module_version": "1.2.0",
            "_view_count": null,
            "flex_flow": null,
            "width": null,
            "min_width": null,
            "border": null,
            "align_items": null,
            "bottom": null,
            "_model_module": "@jupyter-widgets/base",
            "top": null,
            "grid_column": null,
            "overflow_y": null,
            "overflow_x": null,
            "grid_auto_flow": null,
            "grid_area": null,
            "grid_template_columns": null,
            "flex": null,
            "_model_name": "LayoutModel",
            "justify_items": null,
            "grid_row": null,
            "max_height": null,
            "align_content": null,
            "visibility": null,
            "align_self": null,
            "height": null,
            "min_height": null,
            "padding": null,
            "grid_auto_rows": null,
            "grid_gap": null,
            "max_width": null,
            "order": null,
            "_view_module_version": "1.2.0",
            "grid_template_areas": null,
            "object_position": null,
            "object_fit": null,
            "grid_auto_columns": null,
            "margin": null,
            "display": null,
            "left": null
          }
        },
        "855d24b7120d4e55a3bbd19535863745": {
          "model_module": "@jupyter-widgets/controls",
          "model_name": "DescriptionStyleModel",
          "state": {
            "_view_name": "StyleView",
            "_model_name": "DescriptionStyleModel",
            "description_width": "",
            "_view_module": "@jupyter-widgets/base",
            "_model_module_version": "1.5.0",
            "_view_count": null,
            "_view_module_version": "1.2.0",
            "_model_module": "@jupyter-widgets/controls"
          }
        },
        "b10b4acc1c01437981eec9f9742e34f0": {
          "model_module": "@jupyter-widgets/base",
          "model_name": "LayoutModel",
          "state": {
            "_view_name": "LayoutView",
            "grid_template_rows": null,
            "right": null,
            "justify_content": null,
            "_view_module": "@jupyter-widgets/base",
            "overflow": null,
            "_model_module_version": "1.2.0",
            "_view_count": null,
            "flex_flow": null,
            "width": null,
            "min_width": null,
            "border": null,
            "align_items": null,
            "bottom": null,
            "_model_module": "@jupyter-widgets/base",
            "top": null,
            "grid_column": null,
            "overflow_y": null,
            "overflow_x": null,
            "grid_auto_flow": null,
            "grid_area": null,
            "grid_template_columns": null,
            "flex": null,
            "_model_name": "LayoutModel",
            "justify_items": null,
            "grid_row": null,
            "max_height": null,
            "align_content": null,
            "visibility": null,
            "align_self": null,
            "height": null,
            "min_height": null,
            "padding": null,
            "grid_auto_rows": null,
            "grid_gap": null,
            "max_width": null,
            "order": null,
            "_view_module_version": "1.2.0",
            "grid_template_areas": null,
            "object_position": null,
            "object_fit": null,
            "grid_auto_columns": null,
            "margin": null,
            "display": null,
            "left": null
          }
        },
        "5332db6745744e2fb83c2b23e8710f00": {
          "model_module": "@jupyter-widgets/controls",
          "model_name": "HBoxModel",
          "state": {
            "_view_name": "HBoxView",
            "_dom_classes": [],
            "_model_name": "HBoxModel",
            "_view_module": "@jupyter-widgets/controls",
            "_model_module_version": "1.5.0",
            "_view_count": null,
            "_view_module_version": "1.5.0",
            "box_style": "",
            "layout": "IPY_MODEL_c839322a67fb46198757568e988f0cd2",
            "_model_module": "@jupyter-widgets/controls",
            "children": [
              "IPY_MODEL_b950124c11de45e8bd43585250b8d521",
              "IPY_MODEL_a75ccd6201ee456eb1e43e67536eec14"
            ]
          }
        },
        "c839322a67fb46198757568e988f0cd2": {
          "model_module": "@jupyter-widgets/base",
          "model_name": "LayoutModel",
          "state": {
            "_view_name": "LayoutView",
            "grid_template_rows": null,
            "right": null,
            "justify_content": null,
            "_view_module": "@jupyter-widgets/base",
            "overflow": null,
            "_model_module_version": "1.2.0",
            "_view_count": null,
            "flex_flow": null,
            "width": null,
            "min_width": null,
            "border": null,
            "align_items": null,
            "bottom": null,
            "_model_module": "@jupyter-widgets/base",
            "top": null,
            "grid_column": null,
            "overflow_y": null,
            "overflow_x": null,
            "grid_auto_flow": null,
            "grid_area": null,
            "grid_template_columns": null,
            "flex": null,
            "_model_name": "LayoutModel",
            "justify_items": null,
            "grid_row": null,
            "max_height": null,
            "align_content": null,
            "visibility": null,
            "align_self": null,
            "height": null,
            "min_height": null,
            "padding": null,
            "grid_auto_rows": null,
            "grid_gap": null,
            "max_width": null,
            "order": null,
            "_view_module_version": "1.2.0",
            "grid_template_areas": null,
            "object_position": null,
            "object_fit": null,
            "grid_auto_columns": null,
            "margin": null,
            "display": null,
            "left": null
          }
        },
        "b950124c11de45e8bd43585250b8d521": {
          "model_module": "@jupyter-widgets/controls",
          "model_name": "FloatProgressModel",
          "state": {
            "_view_name": "ProgressView",
            "style": "IPY_MODEL_33a0e173703b4103bdd277cfad40d3f9",
            "_dom_classes": [],
            "description": "100%",
            "_model_name": "FloatProgressModel",
            "bar_style": "",
            "max": 12,
            "_view_module": "@jupyter-widgets/controls",
            "_model_module_version": "1.5.0",
            "value": 12,
            "_view_count": null,
            "_view_module_version": "1.5.0",
            "orientation": "horizontal",
            "min": 0,
            "description_tooltip": null,
            "_model_module": "@jupyter-widgets/controls",
            "layout": "IPY_MODEL_46cbbb32aba341b29168d4022193dd6f"
          }
        },
        "a75ccd6201ee456eb1e43e67536eec14": {
          "model_module": "@jupyter-widgets/controls",
          "model_name": "HTMLModel",
          "state": {
            "_view_name": "HTMLView",
            "style": "IPY_MODEL_0710e00084a6410eae2ebbe9a80ac04b",
            "_dom_classes": [],
            "description": "",
            "_model_name": "HTMLModel",
            "placeholder": "​",
            "_view_module": "@jupyter-widgets/controls",
            "_model_module_version": "1.5.0",
            "value": " 12/12 [00:05&lt;00:00,  1.29s/it]",
            "_view_count": null,
            "_view_module_version": "1.5.0",
            "description_tooltip": null,
            "_model_module": "@jupyter-widgets/controls",
            "layout": "IPY_MODEL_e6b1eb0cc5f142fc9ddade758915ef93"
          }
        },
        "33a0e173703b4103bdd277cfad40d3f9": {
          "model_module": "@jupyter-widgets/controls",
          "model_name": "ProgressStyleModel",
          "state": {
            "_view_name": "StyleView",
            "_model_name": "ProgressStyleModel",
            "description_width": "initial",
            "_view_module": "@jupyter-widgets/base",
            "_model_module_version": "1.5.0",
            "_view_count": null,
            "_view_module_version": "1.2.0",
            "bar_color": null,
            "_model_module": "@jupyter-widgets/controls"
          }
        },
        "46cbbb32aba341b29168d4022193dd6f": {
          "model_module": "@jupyter-widgets/base",
          "model_name": "LayoutModel",
          "state": {
            "_view_name": "LayoutView",
            "grid_template_rows": null,
            "right": null,
            "justify_content": null,
            "_view_module": "@jupyter-widgets/base",
            "overflow": null,
            "_model_module_version": "1.2.0",
            "_view_count": null,
            "flex_flow": null,
            "width": null,
            "min_width": null,
            "border": null,
            "align_items": null,
            "bottom": null,
            "_model_module": "@jupyter-widgets/base",
            "top": null,
            "grid_column": null,
            "overflow_y": null,
            "overflow_x": null,
            "grid_auto_flow": null,
            "grid_area": null,
            "grid_template_columns": null,
            "flex": null,
            "_model_name": "LayoutModel",
            "justify_items": null,
            "grid_row": null,
            "max_height": null,
            "align_content": null,
            "visibility": null,
            "align_self": null,
            "height": null,
            "min_height": null,
            "padding": null,
            "grid_auto_rows": null,
            "grid_gap": null,
            "max_width": null,
            "order": null,
            "_view_module_version": "1.2.0",
            "grid_template_areas": null,
            "object_position": null,
            "object_fit": null,
            "grid_auto_columns": null,
            "margin": null,
            "display": null,
            "left": null
          }
        },
        "0710e00084a6410eae2ebbe9a80ac04b": {
          "model_module": "@jupyter-widgets/controls",
          "model_name": "DescriptionStyleModel",
          "state": {
            "_view_name": "StyleView",
            "_model_name": "DescriptionStyleModel",
            "description_width": "",
            "_view_module": "@jupyter-widgets/base",
            "_model_module_version": "1.5.0",
            "_view_count": null,
            "_view_module_version": "1.2.0",
            "_model_module": "@jupyter-widgets/controls"
          }
        },
        "e6b1eb0cc5f142fc9ddade758915ef93": {
          "model_module": "@jupyter-widgets/base",
          "model_name": "LayoutModel",
          "state": {
            "_view_name": "LayoutView",
            "grid_template_rows": null,
            "right": null,
            "justify_content": null,
            "_view_module": "@jupyter-widgets/base",
            "overflow": null,
            "_model_module_version": "1.2.0",
            "_view_count": null,
            "flex_flow": null,
            "width": null,
            "min_width": null,
            "border": null,
            "align_items": null,
            "bottom": null,
            "_model_module": "@jupyter-widgets/base",
            "top": null,
            "grid_column": null,
            "overflow_y": null,
            "overflow_x": null,
            "grid_auto_flow": null,
            "grid_area": null,
            "grid_template_columns": null,
            "flex": null,
            "_model_name": "LayoutModel",
            "justify_items": null,
            "grid_row": null,
            "max_height": null,
            "align_content": null,
            "visibility": null,
            "align_self": null,
            "height": null,
            "min_height": null,
            "padding": null,
            "grid_auto_rows": null,
            "grid_gap": null,
            "max_width": null,
            "order": null,
            "_view_module_version": "1.2.0",
            "grid_template_areas": null,
            "object_position": null,
            "object_fit": null,
            "grid_auto_columns": null,
            "margin": null,
            "display": null,
            "left": null
          }
        },
        "eaa29dc8c3124a8ebf9a38fa78985b7e": {
          "model_module": "@jupyter-widgets/controls",
          "model_name": "HBoxModel",
          "state": {
            "_view_name": "HBoxView",
            "_dom_classes": [],
            "_model_name": "HBoxModel",
            "_view_module": "@jupyter-widgets/controls",
            "_model_module_version": "1.5.0",
            "_view_count": null,
            "_view_module_version": "1.5.0",
            "box_style": "",
            "layout": "IPY_MODEL_cde960e569cb44a39369c954480b5095",
            "_model_module": "@jupyter-widgets/controls",
            "children": [
              "IPY_MODEL_9caa4c9733e341d68eb4541c97948bd9",
              "IPY_MODEL_9f215a382b354268a822708e0bdadaac"
            ]
          }
        },
        "cde960e569cb44a39369c954480b5095": {
          "model_module": "@jupyter-widgets/base",
          "model_name": "LayoutModel",
          "state": {
            "_view_name": "LayoutView",
            "grid_template_rows": null,
            "right": null,
            "justify_content": null,
            "_view_module": "@jupyter-widgets/base",
            "overflow": null,
            "_model_module_version": "1.2.0",
            "_view_count": null,
            "flex_flow": null,
            "width": null,
            "min_width": null,
            "border": null,
            "align_items": null,
            "bottom": null,
            "_model_module": "@jupyter-widgets/base",
            "top": null,
            "grid_column": null,
            "overflow_y": null,
            "overflow_x": null,
            "grid_auto_flow": null,
            "grid_area": null,
            "grid_template_columns": null,
            "flex": null,
            "_model_name": "LayoutModel",
            "justify_items": null,
            "grid_row": null,
            "max_height": null,
            "align_content": null,
            "visibility": null,
            "align_self": null,
            "height": null,
            "min_height": null,
            "padding": null,
            "grid_auto_rows": null,
            "grid_gap": null,
            "max_width": null,
            "order": null,
            "_view_module_version": "1.2.0",
            "grid_template_areas": null,
            "object_position": null,
            "object_fit": null,
            "grid_auto_columns": null,
            "margin": null,
            "display": null,
            "left": null
          }
        },
        "9caa4c9733e341d68eb4541c97948bd9": {
          "model_module": "@jupyter-widgets/controls",
          "model_name": "FloatProgressModel",
          "state": {
            "_view_name": "ProgressView",
            "style": "IPY_MODEL_e3687dfa561b401d926dd0ed3e572e75",
            "_dom_classes": [],
            "description": "100%",
            "_model_name": "FloatProgressModel",
            "bar_style": "",
            "max": 12,
            "_view_module": "@jupyter-widgets/controls",
            "_model_module_version": "1.5.0",
            "value": 12,
            "_view_count": null,
            "_view_module_version": "1.5.0",
            "orientation": "horizontal",
            "min": 0,
            "description_tooltip": null,
            "_model_module": "@jupyter-widgets/controls",
            "layout": "IPY_MODEL_f3d68c234f854d7eb0538b3a392744b9"
          }
        },
        "9f215a382b354268a822708e0bdadaac": {
          "model_module": "@jupyter-widgets/controls",
          "model_name": "HTMLModel",
          "state": {
            "_view_name": "HTMLView",
            "style": "IPY_MODEL_814ecf8ee7254b54a4810f0a726e19be",
            "_dom_classes": [],
            "description": "",
            "_model_name": "HTMLModel",
            "placeholder": "​",
            "_view_module": "@jupyter-widgets/controls",
            "_model_module_version": "1.5.0",
            "value": " 12/12 [00:01&lt;00:00, 34.93it/s]",
            "_view_count": null,
            "_view_module_version": "1.5.0",
            "description_tooltip": null,
            "_model_module": "@jupyter-widgets/controls",
            "layout": "IPY_MODEL_040df5f294af4bfc853e6bab71c34590"
          }
        },
        "e3687dfa561b401d926dd0ed3e572e75": {
          "model_module": "@jupyter-widgets/controls",
          "model_name": "ProgressStyleModel",
          "state": {
            "_view_name": "StyleView",
            "_model_name": "ProgressStyleModel",
            "description_width": "initial",
            "_view_module": "@jupyter-widgets/base",
            "_model_module_version": "1.5.0",
            "_view_count": null,
            "_view_module_version": "1.2.0",
            "bar_color": null,
            "_model_module": "@jupyter-widgets/controls"
          }
        },
        "f3d68c234f854d7eb0538b3a392744b9": {
          "model_module": "@jupyter-widgets/base",
          "model_name": "LayoutModel",
          "state": {
            "_view_name": "LayoutView",
            "grid_template_rows": null,
            "right": null,
            "justify_content": null,
            "_view_module": "@jupyter-widgets/base",
            "overflow": null,
            "_model_module_version": "1.2.0",
            "_view_count": null,
            "flex_flow": null,
            "width": null,
            "min_width": null,
            "border": null,
            "align_items": null,
            "bottom": null,
            "_model_module": "@jupyter-widgets/base",
            "top": null,
            "grid_column": null,
            "overflow_y": null,
            "overflow_x": null,
            "grid_auto_flow": null,
            "grid_area": null,
            "grid_template_columns": null,
            "flex": null,
            "_model_name": "LayoutModel",
            "justify_items": null,
            "grid_row": null,
            "max_height": null,
            "align_content": null,
            "visibility": null,
            "align_self": null,
            "height": null,
            "min_height": null,
            "padding": null,
            "grid_auto_rows": null,
            "grid_gap": null,
            "max_width": null,
            "order": null,
            "_view_module_version": "1.2.0",
            "grid_template_areas": null,
            "object_position": null,
            "object_fit": null,
            "grid_auto_columns": null,
            "margin": null,
            "display": null,
            "left": null
          }
        },
        "814ecf8ee7254b54a4810f0a726e19be": {
          "model_module": "@jupyter-widgets/controls",
          "model_name": "DescriptionStyleModel",
          "state": {
            "_view_name": "StyleView",
            "_model_name": "DescriptionStyleModel",
            "description_width": "",
            "_view_module": "@jupyter-widgets/base",
            "_model_module_version": "1.5.0",
            "_view_count": null,
            "_view_module_version": "1.2.0",
            "_model_module": "@jupyter-widgets/controls"
          }
        },
        "040df5f294af4bfc853e6bab71c34590": {
          "model_module": "@jupyter-widgets/base",
          "model_name": "LayoutModel",
          "state": {
            "_view_name": "LayoutView",
            "grid_template_rows": null,
            "right": null,
            "justify_content": null,
            "_view_module": "@jupyter-widgets/base",
            "overflow": null,
            "_model_module_version": "1.2.0",
            "_view_count": null,
            "flex_flow": null,
            "width": null,
            "min_width": null,
            "border": null,
            "align_items": null,
            "bottom": null,
            "_model_module": "@jupyter-widgets/base",
            "top": null,
            "grid_column": null,
            "overflow_y": null,
            "overflow_x": null,
            "grid_auto_flow": null,
            "grid_area": null,
            "grid_template_columns": null,
            "flex": null,
            "_model_name": "LayoutModel",
            "justify_items": null,
            "grid_row": null,
            "max_height": null,
            "align_content": null,
            "visibility": null,
            "align_self": null,
            "height": null,
            "min_height": null,
            "padding": null,
            "grid_auto_rows": null,
            "grid_gap": null,
            "max_width": null,
            "order": null,
            "_view_module_version": "1.2.0",
            "grid_template_areas": null,
            "object_position": null,
            "object_fit": null,
            "grid_auto_columns": null,
            "margin": null,
            "display": null,
            "left": null
          }
        },
        "2a0be86bfb3a436b8a9f197c46028f63": {
          "model_module": "@jupyter-widgets/controls",
          "model_name": "HBoxModel",
          "state": {
            "_view_name": "HBoxView",
            "_dom_classes": [],
            "_model_name": "HBoxModel",
            "_view_module": "@jupyter-widgets/controls",
            "_model_module_version": "1.5.0",
            "_view_count": null,
            "_view_module_version": "1.5.0",
            "box_style": "",
            "layout": "IPY_MODEL_7fa20e6c4bbb431f8cff91d4f4aee8c5",
            "_model_module": "@jupyter-widgets/controls",
            "children": [
              "IPY_MODEL_a8b9f769b9264a3488a2e8f640d0b73e",
              "IPY_MODEL_1254ec9408c04c278fc49248d0bdc8ba"
            ]
          }
        },
        "7fa20e6c4bbb431f8cff91d4f4aee8c5": {
          "model_module": "@jupyter-widgets/base",
          "model_name": "LayoutModel",
          "state": {
            "_view_name": "LayoutView",
            "grid_template_rows": null,
            "right": null,
            "justify_content": null,
            "_view_module": "@jupyter-widgets/base",
            "overflow": null,
            "_model_module_version": "1.2.0",
            "_view_count": null,
            "flex_flow": null,
            "width": null,
            "min_width": null,
            "border": null,
            "align_items": null,
            "bottom": null,
            "_model_module": "@jupyter-widgets/base",
            "top": null,
            "grid_column": null,
            "overflow_y": null,
            "overflow_x": null,
            "grid_auto_flow": null,
            "grid_area": null,
            "grid_template_columns": null,
            "flex": null,
            "_model_name": "LayoutModel",
            "justify_items": null,
            "grid_row": null,
            "max_height": null,
            "align_content": null,
            "visibility": null,
            "align_self": null,
            "height": null,
            "min_height": null,
            "padding": null,
            "grid_auto_rows": null,
            "grid_gap": null,
            "max_width": null,
            "order": null,
            "_view_module_version": "1.2.0",
            "grid_template_areas": null,
            "object_position": null,
            "object_fit": null,
            "grid_auto_columns": null,
            "margin": null,
            "display": null,
            "left": null
          }
        },
        "a8b9f769b9264a3488a2e8f640d0b73e": {
          "model_module": "@jupyter-widgets/controls",
          "model_name": "FloatProgressModel",
          "state": {
            "_view_name": "ProgressView",
            "style": "IPY_MODEL_c5c7dbc1714543afbf71fb73e15fc6f5",
            "_dom_classes": [],
            "description": "100%",
            "_model_name": "FloatProgressModel",
            "bar_style": "success",
            "max": 42840,
            "_view_module": "@jupyter-widgets/controls",
            "_model_module_version": "1.5.0",
            "value": 42840,
            "_view_count": null,
            "_view_module_version": "1.5.0",
            "orientation": "horizontal",
            "min": 0,
            "description_tooltip": null,
            "_model_module": "@jupyter-widgets/controls",
            "layout": "IPY_MODEL_710317692c314d73b7e90d97e1207c9b"
          }
        },
        "1254ec9408c04c278fc49248d0bdc8ba": {
          "model_module": "@jupyter-widgets/controls",
          "model_name": "HTMLModel",
          "state": {
            "_view_name": "HTMLView",
            "style": "IPY_MODEL_3d21cae7ecee4d48bb600d73a6a85521",
            "_dom_classes": [],
            "description": "",
            "_model_name": "HTMLModel",
            "placeholder": "​",
            "_view_module": "@jupyter-widgets/controls",
            "_model_module_version": "1.5.0",
            "value": " 42840/42840 [04:06&lt;00:00, 173.90it/s]",
            "_view_count": null,
            "_view_module_version": "1.5.0",
            "description_tooltip": null,
            "_model_module": "@jupyter-widgets/controls",
            "layout": "IPY_MODEL_cfab5a1738ca43e984a8b284b33dd2fd"
          }
        },
        "c5c7dbc1714543afbf71fb73e15fc6f5": {
          "model_module": "@jupyter-widgets/controls",
          "model_name": "ProgressStyleModel",
          "state": {
            "_view_name": "StyleView",
            "_model_name": "ProgressStyleModel",
            "description_width": "initial",
            "_view_module": "@jupyter-widgets/base",
            "_model_module_version": "1.5.0",
            "_view_count": null,
            "_view_module_version": "1.2.0",
            "bar_color": null,
            "_model_module": "@jupyter-widgets/controls"
          }
        },
        "710317692c314d73b7e90d97e1207c9b": {
          "model_module": "@jupyter-widgets/base",
          "model_name": "LayoutModel",
          "state": {
            "_view_name": "LayoutView",
            "grid_template_rows": null,
            "right": null,
            "justify_content": null,
            "_view_module": "@jupyter-widgets/base",
            "overflow": null,
            "_model_module_version": "1.2.0",
            "_view_count": null,
            "flex_flow": null,
            "width": null,
            "min_width": null,
            "border": null,
            "align_items": null,
            "bottom": null,
            "_model_module": "@jupyter-widgets/base",
            "top": null,
            "grid_column": null,
            "overflow_y": null,
            "overflow_x": null,
            "grid_auto_flow": null,
            "grid_area": null,
            "grid_template_columns": null,
            "flex": null,
            "_model_name": "LayoutModel",
            "justify_items": null,
            "grid_row": null,
            "max_height": null,
            "align_content": null,
            "visibility": null,
            "align_self": null,
            "height": null,
            "min_height": null,
            "padding": null,
            "grid_auto_rows": null,
            "grid_gap": null,
            "max_width": null,
            "order": null,
            "_view_module_version": "1.2.0",
            "grid_template_areas": null,
            "object_position": null,
            "object_fit": null,
            "grid_auto_columns": null,
            "margin": null,
            "display": null,
            "left": null
          }
        },
        "3d21cae7ecee4d48bb600d73a6a85521": {
          "model_module": "@jupyter-widgets/controls",
          "model_name": "DescriptionStyleModel",
          "state": {
            "_view_name": "StyleView",
            "_model_name": "DescriptionStyleModel",
            "description_width": "",
            "_view_module": "@jupyter-widgets/base",
            "_model_module_version": "1.5.0",
            "_view_count": null,
            "_view_module_version": "1.2.0",
            "_model_module": "@jupyter-widgets/controls"
          }
        },
        "cfab5a1738ca43e984a8b284b33dd2fd": {
          "model_module": "@jupyter-widgets/base",
          "model_name": "LayoutModel",
          "state": {
            "_view_name": "LayoutView",
            "grid_template_rows": null,
            "right": null,
            "justify_content": null,
            "_view_module": "@jupyter-widgets/base",
            "overflow": null,
            "_model_module_version": "1.2.0",
            "_view_count": null,
            "flex_flow": null,
            "width": null,
            "min_width": null,
            "border": null,
            "align_items": null,
            "bottom": null,
            "_model_module": "@jupyter-widgets/base",
            "top": null,
            "grid_column": null,
            "overflow_y": null,
            "overflow_x": null,
            "grid_auto_flow": null,
            "grid_area": null,
            "grid_template_columns": null,
            "flex": null,
            "_model_name": "LayoutModel",
            "justify_items": null,
            "grid_row": null,
            "max_height": null,
            "align_content": null,
            "visibility": null,
            "align_self": null,
            "height": null,
            "min_height": null,
            "padding": null,
            "grid_auto_rows": null,
            "grid_gap": null,
            "max_width": null,
            "order": null,
            "_view_module_version": "1.2.0",
            "grid_template_areas": null,
            "object_position": null,
            "object_fit": null,
            "grid_auto_columns": null,
            "margin": null,
            "display": null,
            "left": null
          }
        }
      }
    }
  },
  "cells": [
    {
      "cell_type": "markdown",
      "metadata": {
        "id": "view-in-github",
        "colab_type": "text"
      },
      "source": [
        "<a href=\"https://colab.research.google.com/github/GavinLi2/Gavin.github.io/blob/master/Main_Training_Codes.ipynb\" target=\"_parent\"><img src=\"https://colab.research.google.com/assets/colab-badge.svg\" alt=\"Open In Colab\"/></a>"
      ]
    },
    {
      "cell_type": "code",
      "metadata": {
        "id": "77f4iJ0qW9Q0",
        "colab_type": "code",
        "outputId": "6315483f-4941-4527-9be1-63071f4280e0",
        "colab": {
          "base_uri": "https://localhost:8080/",
          "height": 72
        }
      },
      "source": [
        "# %load ML_diplay.py\n",
        "\"\"\"\n",
        "机器学习建模\n",
        "\"\"\"\n",
        "import pandas as pd\n",
        "import numpy as np\n",
        "import sys\n",
        "import os\n",
        "import lightgbm as lgb\n",
        "from  datetime import datetime, timedelta\n",
        "import matplotlib.pyplot as plt\n",
        "from sklearn.externals import joblib\n",
        "import gc\n",
        "import warnings\n",
        "warnings.filterwarnings('ignore')"
      ],
      "execution_count": 0,
      "outputs": [
        {
          "output_type": "stream",
          "text": [
            "/usr/local/lib/python3.6/dist-packages/sklearn/externals/joblib/__init__.py:15: FutureWarning: sklearn.externals.joblib is deprecated in 0.21 and will be removed in 0.23. Please import this functionality directly from joblib, which can be installed with: pip install joblib. If this warning is raised when loading pickled models, you may need to re-serialize those models with scikit-learn 0.21+.\n",
            "  warnings.warn(msg, category=FutureWarning)\n"
          ],
          "name": "stderr"
        }
      ]
    },
    {
      "cell_type": "code",
      "metadata": {
        "id": "nPjjg6Xvjz8Q",
        "colab_type": "code",
        "outputId": "30f4e53f-e3e1-4a71-9e0e-b368202a4e6f",
        "colab": {
          "base_uri": "https://localhost:8080/",
          "height": 126
        }
      },
      "source": [
        "from google.colab import drive\n",
        "drive.mount('/content/drive')"
      ],
      "execution_count": 0,
      "outputs": [
        {
          "output_type": "stream",
          "text": [
            "Go to this URL in a browser: https://accounts.google.com/o/oauth2/auth?client_id=947318989803-6bn6qk8qdgf4n4g3pfee6491hc0brc4i.apps.googleusercontent.com&redirect_uri=urn%3aietf%3awg%3aoauth%3a2.0%3aoob&response_type=code&scope=email%20https%3a%2f%2fwww.googleapis.com%2fauth%2fdocs.test%20https%3a%2f%2fwww.googleapis.com%2fauth%2fdrive%20https%3a%2f%2fwww.googleapis.com%2fauth%2fdrive.photos.readonly%20https%3a%2f%2fwww.googleapis.com%2fauth%2fpeopleapi.readonly\n",
            "\n",
            "Enter your authorization code:\n",
            "··········\n",
            "Mounted at /content/drive\n"
          ],
          "name": "stdout"
        }
      ]
    },
    {
      "cell_type": "code",
      "metadata": {
        "id": "vRzh-LOTk9KH",
        "colab_type": "code",
        "colab": {}
      },
      "source": [
        "path = \"/content/drive/My Drive/1 - Walmart M5 Accuracy\" \n",
        "os.chdir(path)"
      ],
      "execution_count": 0,
      "outputs": []
    },
    {
      "cell_type": "code",
      "metadata": {
        "id": "eTdwfAAwW9RE",
        "colab_type": "code",
        "colab": {}
      },
      "source": [
        "# def create_train_data(train_start=750,test_start=1800,is_train=True):\n",
        "#     # 基本参数\n",
        "#     PRICE_DTYPES = {\"store_id\": \"category\", \"item_id\": \"category\", \"wm_yr_wk\": \"int16\",\"sell_price\":\"float32\" }\n",
        "#     CAL_DTYPES={\"event_name_1\": \"category\", \"event_name_2\": \"category\", \"event_type_1\": \"category\", \n",
        "#             \"event_type_2\": \"category\", \"weekday\": \"category\", 'wm_yr_wk': 'int16', \"wday\": \"int16\",\n",
        "#             \"month\": \"int8\", \"year\": \"int16\", \"snap_CA\": \"int8\", 'snap_TX': 'int8', 'snap_WI': 'int8' }\n",
        "\n",
        "#     start_day = train_start if is_train else test_start\n",
        "#     numcols = [f\"d_{day}\" for day in range(start_day,1914)]\n",
        "#     catcols = ['id', 'item_id', 'dept_id','store_id', 'cat_id', 'state_id']\n",
        "#     SALE_DTYPES = {numcol: \"float32\" for numcol in numcols} \n",
        "#     SALE_DTYPES.update({col: \"category\" for col in catcols if col != \"id\"})\n",
        "\n",
        "#     # 加载price数据\n",
        "#     price_data = pd.read_csv('sell_prices.csv',dtype=PRICE_DTYPES)\n",
        "#     # 加载cal数据\n",
        "#     cal_data = pd.read_csv('calendar.csv',dtype=CAL_DTYPES)\n",
        "#     # 加载sale数据\n",
        "#     sale_data = pd.read_csv('sales_train_validation.csv',dtype=SALE_DTYPES,usecols=catcols+numcols)\n",
        "\n",
        "#     # 根据季节和趋势强度对item进行分类\n",
        "#     # score_strength = pd.read_csv('score_strength.csv')\n",
        "#     # sale_data = pd.merge(sale_data,score_strength,on='id')\n",
        "#     # sale_data['s'] = sale_data['s'].apply(lambda x: 1 if x < 0.95 else 0)\n",
        "#     # sale_data['t'] = sale_data['t'].apply(lambda x: 1 if x < 0.88 else 0)\n",
        "#     # sale_data[['s','t']] = sale_data[['s','t']].astype('int8')\n",
        "\n",
        "#     # 获取每个item的权重\n",
        "#     # weights = pd.read_csv('weights_validation.csv')\n",
        "#     # weights = weights[weights['Level_id'] == 'Level12']\n",
        "#     # weights['id'] = weights['Agg_Level_1'] + '_' + weights['Agg_Level_2'] + '_validation'\n",
        "#     # sale_data = pd.merge(sale_data,weights[['id','Weight']],on='id')\n",
        "#     # sale_data['Weight'] = sale_data['Weight'].astype('float32')\n",
        "\n",
        "#     # 类别标签转换\n",
        "#     # lgbm可以处理分类变量，无需one-hot编码，但是要将分类特征dtype转为int\n",
        "#     for col, col_dtype in PRICE_DTYPES.items():\n",
        "#         if col_dtype == \"category\":\n",
        "#             price_data[col] = price_data[col].cat.codes.astype(\"int16\") \n",
        "#             #↑cat方法将category转换为CategoricalAccessor对象，codes方法以Series返回该对象的所有类名及对应索引，用于将类标签转为数值\n",
        "#             price_data[col] -= price_data[col].min() #令类标签从0开始\n",
        "\n",
        "#     cal_data[\"date\"] = pd.to_datetime(cal_data[\"date\"])\n",
        "#     cal_data, CAL_DTYPES = event_features(cal_data,CAL_DTYPES,3)\n",
        "#     for col, col_dtype in CAL_DTYPES.items():\n",
        "#         if col_dtype == \"category\":\n",
        "#             cal_data[col] = cal_data[col].cat.codes.astype(\"int16\")\n",
        "#             cal_data[col] -= cal_data[col].min()\n",
        "\n",
        "#     for col in catcols:\n",
        "#         if col != \"id\":\n",
        "#             sale_data[col] = sale_data[col].cat.codes.astype(\"int16\")\n",
        "#             sale_data[col] -= sale_data[col].min()\n",
        "\n",
        "#     if not is_train:\n",
        "#         for day in range(1913+1, 1913+ 2*28 +1):\n",
        "#             sale_data[f\"d_{day}\"] = np.nan\n",
        "#     # melt函数：将数据分为三部分：①id-like的列；②variables列：将指定列的列名，融合到一列中；③values列：将被融合的列的值，与融合后的列一一对应\n",
        "#     sale_data = pd.melt(sale_data,\n",
        "#             # id_vars = catcols + ['s','t','Weight'],\n",
        "#             id_vars = catcols + ['s','t'],\n",
        "#             value_vars = [col for col in sale_data.columns if col.startswith(\"d_\")],\n",
        "#             var_name = \"d\",\n",
        "#             value_name = \"sales\")\n",
        "#     sale_data = sale_data.merge(cal_data, on= \"d\", copy = False)\n",
        "#     sale_data = sale_data.merge(price_data, on = [\"store_id\", \"item_id\", \"wm_yr_wk\"], copy = False)\n",
        "\n",
        "#     # 处理时间特征\n",
        "#     # 有的时间特征没有，通过datetime的方法自动生成\n",
        "#     date_features = {\n",
        "#             \"wday\": \"weekday\",\n",
        "#             \"week\": \"weekofyear\",\n",
        "#             \"month\": \"month\",\n",
        "#             \"quarter\": \"quarter\",\n",
        "#             \"year\": \"year\",\n",
        "#             \"mday\": \"day\",}\n",
        "\n",
        "#     for date_feat_name, date_feat_func in date_features.items():\n",
        "#         if date_feat_name in sale_data.columns:\n",
        "#             pass\n",
        "#         else:\n",
        "#             sale_data[date_feat_name] = getattr(sale_data[\"date\"].dt, date_feat_func).astype(\"int16\")\n",
        "\n",
        "#     sale_data.drop([\"wm_yr_wk\", \"weekday\"],axis=1,inplace=True)\n",
        "\n",
        "#     return sale_data\n",
        "\n",
        "\n",
        "# def create_feature(sale_data, is_train=True, day=None):\n",
        "#     # 可以在这里加入更多的特征抽取方法\n",
        "#     # 获取7天前的数据，28天前的数据\n",
        "#     lags = [7, 28]\n",
        "#     lag_cols = [f\"lag_{lag}\" for lag in lags ]\n",
        "\n",
        "#     # 如果是测试集只需要计算一天的特征，减少计算量\n",
        "#     # 注意训练集和测试集特征生成要一致\n",
        "#     if is_train:\n",
        "#         for lag, lag_col in zip(lags, lag_cols):\n",
        "#             sale_data[lag_col] = sale_data[[\"id\",\"sales\"]].groupby(\"id\")[\"sales\"].shift(lag)\n",
        "#     else:\n",
        "#         for lag, lag_col in zip(lags, lag_cols):\n",
        "#             sale_data.loc[sale_data.date == day, lag_col] = sale_data.loc[sale_data.date ==day-timedelta(days=lag), 'sales'].values\n",
        "#             # day变量是指需要预测的日期。这里直接取需要预测的日期对应的lag的数据，而没有用shift函数，减小了计算量（不用冗余地处理非预测日期的数据）  \n",
        "\n",
        "\n",
        "#     # 将获取7天前的数据，28天前的数据做移动平均\n",
        "#     wins = [7, 28]\n",
        "\n",
        "#     if is_train:\n",
        "#         for win in wins :\n",
        "#             for lag,lag_col in zip(lags, lag_cols):\n",
        "#                 # sale_data = pd.concat([sale_data,\n",
        "#                 #                   sale_data[['id', lag_col]].groupby('id')[lag_col].apply(lambda x: x.rolling(win).agg({\n",
        "#                 #                                             f\"rmean_{lag}_{win}\":'mean',\n",
        "#                 #                                             f\"rmedian_{lag}_{win}\":'median',\n",
        "#                 #                                             f\"rstd_{lag}_{win}\":'std',\n",
        "#                 #                                             f\"rmax_{lag}_{win}\":'max',\n",
        "#                 #                                             f\"rmin_{lag}_{win}\":'min'}))], axis=1)\n",
        "#                 sale_data[f\"rmean_{lag}_{win}\"] = sale_data[[\"id\", lag_col]].groupby(\"id\")[lag_col].transform(lambda x : x.rolling(win).mean()).astype('float32')\n",
        "#                 if lag == 28:\n",
        "#                     sale_data[f\"rmedian_{lag}_{win}\"] = sale_data[[\"id\", lag_col]].groupby(\"id\")[lag_col].transform(lambda x : x.rolling(win).median()).astype('float32')\n",
        "#                     sale_data[f\"rstd_{lag}_{win}\"] = sale_data[[\"id\", lag_col]].groupby(\"id\")[lag_col].transform(lambda x : x.rolling(win).std()).astype('float32')\n",
        "#                     sale_data[f\"rmax_{lag}_{win}\"] = sale_data[[\"id\", lag_col]].groupby(\"id\")[lag_col].transform(lambda x : x.rolling(win).max()).astype('float32')\n",
        "#                 else:\n",
        "#                     pass\n",
        "#     else:\n",
        "#         for win in wins:\n",
        "#             for lag in lags:\n",
        "#                 # 取lag天前，窗口大小为win的日期的数据【i.e.取两个时间节点间的数据】\n",
        "#                 df_window = sale_data[(sale_data.date <= day-timedelta(days=lag)) & (sale_data.date > day-timedelta(days=lag+win))]\n",
        "#                 if lag == 28:\n",
        "#                     # 将数据按id聚合\n",
        "#                     df_window_grouped = df_window.groupby(\"id\").agg({'sales':['mean','median','std','max']})\n",
        "#                     df_window_grouped = df_window_grouped.reindex(sale_data.loc[sale_data.date==day,'id'])['sales']\n",
        "#                     sale_data[[\n",
        "#                             f\"rmean_{lag}_{win}\",\n",
        "#                             f\"rmedian_{lag}_{win}\",\n",
        "#                             f\"rstd_{lag}_{win}\",\n",
        "#                             f\"rmax_{lag}_{win}\",\n",
        "#                                       ]] = df_window_grouped.set_index(sale_data.loc[sale_data.date == day].index).astype('float32')\n",
        "#                 else:\n",
        "#                     df_window_grouped = df_window.groupby(\"id\").agg({'sales':'mean'})\n",
        "#                     df_window_grouped = df_window_grouped.reindex(sale_data.loc[sale_data.date==day,'id'])['sales']\n",
        "#                     sale_data.loc[sale_data.date == day, f\"rmean_{lag}_{win}\"] = df_window_grouped.values\n",
        "\n",
        "#     return sale_data\n",
        "\n",
        "# def train_model(train_data,valid_data):\n",
        "#     params = {\"objective\" : \"tweedie\",\n",
        "#               \"metric\" :\"rmse\",\n",
        "#               \"force_row_wise\" : True,\n",
        "#               \"learning_rate\" : 0.075,\n",
        "#               \"sub_feature\" : 0.8,\n",
        "#               \"sub_row\" : 0.75,\n",
        "#               \"bagging_freq\" : 1,\n",
        "#               \"lambda_l2\" : 0.1,\n",
        "#               \"metric\": [\"rmse\"],\n",
        "#               \"nthread\": 8,\n",
        "#               \"tweedie_variance_power\":1.2,\n",
        "#               'verbosity': 1,\n",
        "#               'num_iterations' : 1500,\n",
        "#               'num_leaves': 128,\n",
        "#               \"min_data_in_leaf\": 104,\n",
        "#               }\n",
        "\n",
        "#     m_lgb = lgb.train(params, train_data, valid_sets = [valid_data], verbose_eval=50)\n",
        "\n",
        "#     return m_lgb\n",
        "\n",
        "\n",
        "# def predict_ensemble(train_cols,m_lgb):\n",
        "#     date = datetime(2016,4, 25) \n",
        "#     # 选择要乘以的系数\n",
        "#     alphas = [1.035, 1.03, 1.025]\n",
        "#     weights = [1/len(alphas)]*len(alphas)\n",
        "#     sub = 0.\n",
        "\n",
        "#     test_data = create_train_data(is_train=False)\n",
        "\n",
        "#     for icount, (alpha, weight) in enumerate(zip(alphas, weights)):\n",
        "\n",
        "#         test_data_c = test_data.copy()\n",
        "#         cols = [f\"F{i}\" for i in range(1,29)]\n",
        "\n",
        "\n",
        "#         for i in range(0, 28):\n",
        "#             day = date + timedelta(days=i)\n",
        "#             print(i, day)\n",
        "#             tst = test_data_c[(test_data_c.date >= day - timedelta(days=57)) & (test_data_c.date <= day)].copy()\n",
        "#             tst = create_feature(tst,is_train=False, day=day)\n",
        "#             tst = tst.loc[tst.date == day , train_cols]\n",
        "#             test_data_c.loc[test_data_c.date == day, \"sales\"] = alpha*m_lgb.predict(tst)\n",
        "\n",
        "#         # 改为提交数据的格式\n",
        "#         test_sub = test_data_c.loc[test_data_c.date >= date, [\"id\", \"sales\"]].copy()\n",
        "#         test_sub[\"F\"] = [f\"F{rank}\" for rank in test_sub.groupby(\"id\")[\"id\"].cumcount()+1]\n",
        "#         test_sub = test_sub.set_index([\"id\", \"F\"]).unstack()[\"sales\"][cols].reset_index()\n",
        "#         test_sub.fillna(0., inplace = True)\n",
        "#         test_sub.sort_values(\"id\", inplace = True)\n",
        "#         test_sub.reset_index(drop=True, inplace = True)\n",
        "#         # test_sub.to_csv(f\"submission_{icount}.csv\",index=False)\n",
        "#         if icount == 0 :\n",
        "#             sub = test_sub\n",
        "#             sub[cols] *= weight\n",
        "#         else:\n",
        "#             sub[cols] += test_sub[cols]*weight\n",
        "#         print(icount, alpha, weight)\n",
        "    \n",
        "#     sub2 = sub.copy()\n",
        "#     # 把大于28天后的validation替换成evaluation\n",
        "#     sub2[\"id\"] = sub2[\"id\"].str.replace(\"validation$\", \"evaluation\")\n",
        "#     sub = pd.concat([sub, sub2], axis=0, sort=False)\n",
        "#     sub.to_csv(\"submission_v10.csv\",index=False)"
      ],
      "execution_count": 0,
      "outputs": []
    },
    {
      "cell_type": "code",
      "metadata": {
        "id": "2-ysiehTDEOp",
        "colab_type": "code",
        "colab": {}
      },
      "source": [
        "def create_train_data(train_start=750,test_start=1800,is_train=True):\n",
        "    # 基本参数\n",
        "    PRICE_DTYPES = {\"store_id\": \"category\", \"item_id\": \"category\", \"wm_yr_wk\": \"int16\",\"sell_price\":\"float32\" }\n",
        "    CAL_DTYPES={\"event_name_1\": \"category\", \"event_name_2\": \"category\", \"event_type_1\": \"category\", \n",
        "            \"event_type_2\": \"category\", \"weekday\": \"category\", 'wm_yr_wk': 'int16', \"wday\": \"int16\",\n",
        "            \"month\": \"int8\", \"year\": \"int16\", \"snap_CA\": \"int8\", 'snap_TX': 'int8', 'snap_WI': 'int8' }\n",
        "\n",
        "    start_day = train_start if is_train else test_start\n",
        "    numcols = [f\"d_{day}\" for day in range(start_day,1914)]\n",
        "    catcols = ['id', 'item_id', 'dept_id','store_id', 'cat_id', 'state_id']\n",
        "    SALE_DTYPES = {numcol: \"float32\" for numcol in numcols} \n",
        "    SALE_DTYPES.update({col: \"category\" for col in catcols if col != \"id\"})\n",
        "\n",
        "    # 加载price数据\n",
        "    price_data = pd.read_csv('sell_prices.csv',dtype=PRICE_DTYPES)\n",
        "    # 加载cal数据\n",
        "    cal_data = pd.read_csv('calendar.csv',dtype=CAL_DTYPES)\n",
        "    # 加载sale数据\n",
        "    sale_data = pd.read_csv('sales_train_validation.csv',dtype=SALE_DTYPES,usecols=catcols+numcols)\n",
        "\n",
        "    # # 根据季节和趋势强度对item进行分类\n",
        "    # score_strength = pd.read_csv('score_strength.csv')\n",
        "    # sale_data = pd.merge(sale_data,score_strength,on='id')\n",
        "    # sale_data['s'] = sale_data['s'].apply(lambda x: 1 if x < 0.95 else 0)\n",
        "    # sale_data['t'] = sale_data['t'].apply(lambda x: 1 if x < 0.88 else 0)\n",
        "    # sale_data[['s','t']] = sale_data[['s','t']].astype('int8')\n",
        "\n",
        "    # 获取每个item的权重\n",
        "    # weights = pd.read_csv('weights_validation.csv')\n",
        "    # weights = weights[weights['Level_id'] == 'Level12']\n",
        "    # weights['id'] = weights['Agg_Level_1'] + '_' + weights['Agg_Level_2'] + '_validation'\n",
        "    # sale_data = pd.merge(sale_data,weights[['id','Weight']],on='id')\n",
        "    # sale_data['Weight'] = sale_data['Weight'].astype('float32')\n",
        "\n",
        "    # 类别标签转换\n",
        "    for col, col_dtype in PRICE_DTYPES.items():\n",
        "        if col_dtype == \"category\":\n",
        "            price_data[col] = price_data[col].cat.codes.astype(\"int16\") \n",
        "            #↑cat方法将category转换为CategoricalAccessor对象，codes方法以Series返回该对象的所有类名及对应索引，用于将类标签转为数值\n",
        "            price_data[col] -= price_data[col].min() #令类标签从0开始\n",
        "\n",
        "    cal_data[\"date\"] = pd.to_datetime(cal_data[\"date\"])\n",
        "    cal_data, CAL_DTYPES = event_features(cal_data,CAL_DTYPES,3)\n",
        "    for col, col_dtype in CAL_DTYPES.items():\n",
        "        if col_dtype == \"category\":\n",
        "            cal_data[col] = cal_data[col].cat.codes.astype(\"int16\")\n",
        "            cal_data[col] -= cal_data[col].min()\n",
        "\n",
        "    for col in catcols:\n",
        "        if col != \"id\":\n",
        "            sale_data[col] = sale_data[col].cat.codes.astype(\"int16\")\n",
        "            sale_data[col] -= sale_data[col].min()\n",
        "\n",
        "    if not is_train:\n",
        "        for day in range(1913+1, 1913+ 2*28 +1):\n",
        "            sale_data[f\"d_{day}\"] = np.nan\n",
        "    # melt函数：将数据分为三部分：①id-like的列；②variables列：将指定列的列名，融合到一列中；③values列：将被融合的列的值，与融合后的列一一对应\n",
        "    sale_data = pd.melt(sale_data,\n",
        "            # id_vars = catcols + ['s','t','Weight'],\n",
        "            id_vars = catcols,\n",
        "            value_vars = [col for col in sale_data.columns if col.startswith(\"d_\")],\n",
        "            var_name = \"d\",\n",
        "            value_name = \"sales\")\n",
        "    sale_data = sale_data.merge(cal_data, on= \"d\", copy = False)\n",
        "    sale_data = sale_data.merge(price_data, on = [\"store_id\", \"item_id\", \"wm_yr_wk\"], copy = False)\n",
        "\n",
        "    # 处理时间特征\n",
        "    # 有的时间特征没有，通过datetime的方法自动生成\n",
        "    date_features = {\n",
        "            \"wday\": \"weekday\",\n",
        "            \"week\": \"weekofyear\",\n",
        "            \"month\": \"month\",\n",
        "            \"quarter\": \"quarter\",\n",
        "            \"year\": \"year\",\n",
        "            \"mday\": \"day\",}\n",
        "\n",
        "    for date_feat_name, date_feat_func in date_features.items():\n",
        "        if date_feat_name in sale_data.columns:\n",
        "            pass\n",
        "        else:\n",
        "            sale_data[date_feat_name] = getattr(sale_data[\"date\"].dt, date_feat_func).astype(\"int16\")\n",
        "\n",
        "    sale_data.drop([\"wm_yr_wk\", \"weekday\"],axis=1,inplace=True)\n",
        "\n",
        "    return sale_data\n",
        "\n",
        "\n",
        "def create_feature(sale_data, is_train=True, day=None):\n",
        "    # 可以在这里加入更多的特征抽取方法\n",
        "    # 获取7天前的数据，28天前的数据\n",
        "    lags = [7, 28]\n",
        "    lag_cols = [f\"lag_{lag}\" for lag in lags ]\n",
        "\n",
        "    # 如果是测试集只需要计算一天的特征，减少计算量\n",
        "    # 注意训练集和测试集特征生成要一致\n",
        "    if is_train:\n",
        "        for lag, lag_col in zip(lags, lag_cols):\n",
        "            sale_data[lag_col] = sale_data[[\"id\",\"sales\"]].groupby(\"id\")[\"sales\"].shift(lag)\n",
        "    else:\n",
        "        for lag, lag_col in zip(lags, lag_cols):\n",
        "            sale_data.loc[sale_data.date == day, lag_col] = sale_data.loc[sale_data.date ==day-timedelta(days=lag), 'sales'].values\n",
        "            # day变量是指需要预测的日期。这里直接取需要预测的日期对应的lag的数据，而没有用shift函数，减小了计算量（不用冗余地处理非预测日期的数据）  \n",
        "\n",
        "\n",
        "    # 将获取7天前的数据，28天前的数据做移动平均\n",
        "    wins = [7, 28]\n",
        "\n",
        "    if is_train:\n",
        "        for win in wins :\n",
        "            for lag,lag_col in zip(lags, lag_cols):\n",
        "                sale_data[f\"rmean_{lag}_{win}\"] = sale_data[[\"id\", lag_col]].groupby(\"id\")[lag_col].transform(lambda x : x.rolling(win).mean()).astype('float32')\n",
        "    else:\n",
        "        for win in wins:\n",
        "            for lag in lags:\n",
        "                # 取lag天前，窗口大小为win的日期的数据【i.e.取两个时间节点间的数据】\n",
        "                df_window = sale_data[(sale_data.date <= day-timedelta(days=lag)) & (sale_data.date > day-timedelta(days=lag+win))]\n",
        "                df_window_grouped = df_window.groupby(\"id\").agg({'sales':'mean'}).reindex(sale_data.loc[sale_data.date==day,'id'])['sales']\n",
        "                sale_data.loc[sale_data.date == day, f\"rmean_{lag}_{win}\"] = df_window_grouped.astype('float32').values\n",
        "    return sale_data\n",
        "\n",
        "def train_model(train_data,valid_data):\n",
        "    params = {\"objective\" : \"tweedie\",\n",
        "              \"metric\" :\"rmse\",\n",
        "              \"force_row_wise\" : True,\n",
        "              \"learning_rate\" : 0.075,\n",
        "              \"sub_feature\" : 0.8,\n",
        "              \"sub_row\" : 0.75,\n",
        "              \"bagging_freq\" : 1,\n",
        "              \"lambda_l2\" : 0.1,\n",
        "              \"nthread\": 8,\n",
        "              \"tweedie_variance_power\":1.2,\n",
        "              'verbosity': 1,\n",
        "              'num_iterations' : 1500,\n",
        "              'num_leaves': 128,\n",
        "              \"min_data_in_leaf\": 104,\n",
        "              }\n",
        "\n",
        "    m_lgb = lgb.train(params, train_data, valid_sets = [train_data, valid_data], verbose_eval=50)\n",
        "\n",
        "    return m_lgb\n",
        "\n",
        "\n",
        "def predict_ensemble(train_cols,m_lgb):\n",
        "    date = datetime(2016,4,25) \n",
        "    # 选择要乘以的系数\n",
        "    alphas = [1.035, 1.03, 1.025]\n",
        "    weights = [1/len(alphas)]*len(alphas)\n",
        "    sub = 0.\n",
        "\n",
        "    test_data = create_train_data(is_train=False)\n",
        "\n",
        "    for icount, (alpha, weight) in enumerate(zip(alphas, weights)):\n",
        "\n",
        "        test_data_c = test_data.copy()\n",
        "        cols = [f\"F{i}\" for i in range(1,29)]\n",
        "\n",
        "\n",
        "        for i in range(0, 28):\n",
        "            day = date + timedelta(days=i)\n",
        "            print(i, day)\n",
        "            tst = test_data_c[(test_data_c.date >= day - timedelta(days=57)) & (test_data_c.date <= day)].copy()\n",
        "            tst = create_feature(tst,is_train=False, day=day)\n",
        "            tst = tst.loc[tst.date == day , train_cols]\n",
        "            test_data_c.loc[test_data_c.date == day, \"sales\"] = alpha*m_lgb.predict(tst)\n",
        "\n",
        "        # 改为提交数据的格式\n",
        "        test_sub = test_data_c.loc[test_data_c.date >= date, [\"id\", \"sales\"]].copy()\n",
        "        test_sub[\"F\"] = [f\"F{rank}\" for rank in test_sub.groupby(\"id\")[\"id\"].cumcount()+1]\n",
        "        test_sub = test_sub.set_index([\"id\", \"F\"]).unstack()[\"sales\"][cols].reset_index()\n",
        "        test_sub.fillna(0., inplace = True)\n",
        "        test_sub.sort_values(\"id\", inplace = True)\n",
        "        test_sub.reset_index(drop=True, inplace = True)\n",
        "        # test_sub.to_csv(f\"submission_{icount}.csv\",index=False)\n",
        "        if icount == 0 :\n",
        "            sub = test_sub\n",
        "            sub[cols] *= weight\n",
        "        else:\n",
        "            sub[cols] += test_sub[cols]*weight\n",
        "        print(icount, alpha, weight)\n",
        "    \n",
        "    sub2 = sub.copy()\n",
        "    # 把大于28天后的validation替换成evaluation\n",
        "    sub2[\"id\"] = sub2[\"id\"].str.replace(\"validation$\", \"evaluation\")\n",
        "    sub = pd.concat([sub, sub2], axis=0, sort=False)\n",
        "    sub.to_csv(\"submission_v13.csv\",index=False)"
      ],
      "execution_count": 0,
      "outputs": []
    },
    {
      "cell_type": "code",
      "metadata": {
        "id": "m_QAKwK2RikH",
        "colab_type": "code",
        "colab": {}
      },
      "source": [
        "'''\n",
        "构造节日特征：\n",
        "日期前后三天有无节日？有几个节日？距离节日几天？\n",
        "'''\n",
        "def event_features(calendar,cal_dtypes,span):\n",
        "  events_list = np.concatenate([calendar[calendar.event_name_1.notnull()].event_name_1.unique(),calendar[calendar.event_name_2.notnull()].event_name_2.unique()])\n",
        "\n",
        "  # 抽取节日前n天的日期\n",
        "  event_info_b = {}\n",
        "  for event in events_list:\n",
        "    event_date = calendar[(calendar.event_name_1 == event) | (calendar.event_name_2 == event)].date\n",
        "    event_info_b[event] = sum([list(zip((event_date - timedelta(i)).to_list(),[i]*len(event_date))) for i in range(1,span+1)],[])\n",
        "  days_before_events = {}\n",
        "  for (event,info) in event_info_b.items():\n",
        "    for date, i in info:\n",
        "      if date not in days_before_events:\n",
        "        days_before_events[date] = [(event,i)]\n",
        "      else:\n",
        "        days_before_events[date].append((event,i))\n",
        "\n",
        "  # 抽取节日后n天的日期\n",
        "  event_info_a = {}\n",
        "  for event in events_list:\n",
        "    event_date = calendar[(calendar.event_name_1 == event) | (calendar.event_name_2 == event)].date\n",
        "    event_info_a[event] = sum([list(zip((event_date + timedelta(i)).to_list(),[i]*len(event_date))) for i in range(1,span+1)],[])\n",
        "  days_after_events = {}\n",
        "  for (event,info) in event_info_a.items():\n",
        "    for date, i in info:\n",
        "      if date not in days_after_events:\n",
        "        days_after_events[date] = [(event,i)]\n",
        "      else:\n",
        "        days_after_events[date].append((event,i))\n",
        "  \n",
        "  calendar['before_events'] = calendar.date.apply(lambda x: tuple(days_before_events[x]) if x in days_before_events else np.nan)\n",
        "  calendar['after_events'] = calendar.date.apply(lambda x: tuple(days_after_events[x]) if x in days_after_events else np.nan)\n",
        "  calendar[['before_events','after_events']] = calendar[['before_events','after_events']].astype('category')\n",
        "\n",
        "  cal_dtypes['before_events'], cal_dtypes['after_events'] = 'category', 'category'\n",
        "\n",
        "  return calendar, cal_dtypes"
      ],
      "execution_count": 0,
      "outputs": []
    },
    {
      "cell_type": "code",
      "metadata": {
        "id": "oTx9erJR-Jhm",
        "colab_type": "code",
        "colab": {}
      },
      "source": [
        "# 辅助函数\n",
        "# 1.内存优化\n",
        "def reduce_mem_usage(df, verbose=True):\n",
        "    numerics = ['int16', 'int32', 'int64', 'float16', 'float32', 'float64']\n",
        "    start_mem = df.memory_usage().sum() / 1024**2    \n",
        "    for col in df.columns:\n",
        "        if col != 'sales':\n",
        "            col_type = df[col].dtypes\n",
        "            if col_type in numerics:\n",
        "                c_min = df[col].min()\n",
        "                c_max = df[col].max()\n",
        "                if str(col_type)[:3] == 'int':\n",
        "                    if c_min >= np.iinfo(np.uint8).min and c_max <= np.iinfo(np.uint8).max:\n",
        "                        df[col] = df[col].astype(np.uint8)\n",
        "                    elif c_min >= np.iinfo(np.uint16).min and c_max <= np.iinfo(np.uint16).max:\n",
        "                        df[col] = df[col].astype(np.uint16)\n",
        "                    elif c_min > np.iinfo(np.int32).min and c_max < np.iinfo(np.int32).max:\n",
        "                        df[col] = df[col].astype(np.int32)\n",
        "                    elif c_min > np.iinfo(np.int64).min and c_max < np.iinfo(np.int64).max:\n",
        "                        df[col] = df[col].astype(np.int64)  \n",
        "                else:\n",
        "                    if c_min > np.finfo(np.float16).min and c_max < np.finfo(np.float16).max:\n",
        "                        df[col] = df[col].astype(np.float16)\n",
        "                    elif c_min > np.finfo(np.float32).min and c_max < np.finfo(np.float32).max:\n",
        "                        df[col] = df[col].astype(np.float32)\n",
        "                    else:\n",
        "                        df[col] = df[col].astype(np.float64)    \n",
        "    end_mem = df.memory_usage().sum() / 1024**2\n",
        "    if verbose: print('Mem. usage decreased to {:5.2f} Mb ({:.1f}% reduction)'.format(end_mem, 100 * (start_mem - end_mem) / start_mem))\n",
        "    return df\n",
        "\n",
        "# 2.RMSSE评估\n",
        "def evaluate(valid_sets):\n",
        "    import pickle\n",
        "    with open('/content/drive/My Drive/1 - Walmart M5 Accuracy/Evaluation/submission_index.pkl','rb') as f:\n",
        "        submission_index = pickle.load(f)\n",
        "    with open('/content/drive/My Drive/1 - Walmart M5 Accuracy/Evaluation/valid_id.pkl','rb') as f:\n",
        "        valid_pred = pickle.load(f)\n",
        "    with open('/content/drive/My Drive/1 - Walmart M5 Accuracy/Evaluation/evaluate.pkl','rb') as f:\n",
        "        e = pickle.load(f)\n",
        "    valid_pred['sales'] = m_lgb.predict(valid_sets)\n",
        "    valid_pred = valid_pred.set_index(['id','d']).unstack()['sales']\n",
        "    valid_pred = valid_pred.reindex(submission_index).values\n",
        "    print('RMSSE: {:.6}'.format(e.score(valid_pred)))\n"
      ],
      "execution_count": 0,
      "outputs": []
    },
    {
      "cell_type": "code",
      "metadata": {
        "id": "VJCEi5gL1aAH",
        "colab_type": "code",
        "colab": {}
      },
      "source": [
        "if __name__ == '__main__':\n",
        "    sale_data = create_train_data(train_start=600,is_train=True)\n",
        "    sale_data = create_feature(sale_data)\n",
        "    sale_data = reduce_mem_usage(sale_data)\n",
        "\n",
        "    cat_feats = ['item_id', 'dept_id','store_id', 'cat_id', 'state_id'] + [\"event_name_1\", \"event_type_1\", \"event_name_2\", 'event_type_2'] + ['before_events','after_events']\n",
        "    useless_cols = [\"id\", \"date\", \"sales\", \"d\", \"Weight\"]\n",
        "    train_cols = sale_data.columns[~sale_data.columns.isin(useless_cols)]\n",
        "\n",
        "    # valid set中有8个新品，存在nan值。为了便于后续WRMSSE计算，先提取验证集再清洗nan【lgb可以处理nan值】\n",
        "    X_valid = sale_data.loc[(sale_data.date <= '2016-04-24') & (sale_data.date > '2016-03-27'),train_cols]\n",
        "    y_valid = sale_data.loc[(sale_data.date <= '2016-04-24') & (sale_data.date > '2016-03-27'),'sales']\n",
        "    # w_valid = sale_data.loc[(sale_data.date <= '2016-04-24') & (sale_data.date > '2016-03-27'),'Weight']\n",
        "\n",
        "    # 清洗数据，选择需要训练的数据\n",
        "    sale_data.dropna(inplace=True)\n",
        "\n",
        "    # X_train = sale_data[train_cols]\n",
        "    # y_train = sale_data[\"sales\"]\n",
        "    X_train = sale_data.loc[sale_data.date <= '2016-03-27',train_cols]\n",
        "    y_train = sale_data.loc[sale_data.date <= '2016-03-27',\"sales\"]\n",
        "    # w = sale_data.loc[sale_data.date <= '2016-03-27',\"Weight\"]\n",
        "    train_data = lgb.Dataset(X_train, label=y_train, categorical_feature=cat_feats, free_raw_data=True)\n",
        "\n",
        "    valid_data = lgb.Dataset(X_valid, label=y_valid, categorical_feature=cat_feats, reference=train_data, free_raw_data=True) \n",
        "\n",
        "    del sale_data\n",
        "    gc.collect()\n",
        "\n",
        "    m_lgb = train_model(train_data,valid_data)\n",
        "    joblib.dump(m_lgb,'lgb_v13.pkl')\n",
        "\n",
        "    # 实例化评估对象\n",
        "    train_df = pd.read_csv('sales_train_validation.csv')\n",
        "    cal_data = pd.read_csv('calendar.csv')\n",
        "    price_data = pd.read_csv('sell_prices.csv')\n",
        "    train_fold_df = train_df.iloc[:,:-28]\n",
        "    valid_fold_df = train_df.iloc[:,-28:].copy()\n",
        "    e = WRMSSEEvaluator(train_fold_df, valid_fold_df, cal_data, price_data)\n",
        "    del train_fold_df, train_df, cal_data, price_data\n",
        "\n",
        "    m_lgb.eval_valid(evaluate_wrmsse)\n",
        "\n",
        "    predict_ensemble(train_cols,m_lgb)"
      ],
      "execution_count": 0,
      "outputs": []
    },
    {
      "cell_type": "code",
      "metadata": {
        "id": "apy-r-vc7Yqz",
        "colab_type": "code",
        "colab": {}
      },
      "source": [
        ""
      ],
      "execution_count": 0,
      "outputs": []
    },
    {
      "cell_type": "code",
      "metadata": {
        "id": "WgQ3BnrviKAo",
        "colab_type": "code",
        "outputId": "5c09defc-a854-41c2-82de-db2e3e0734f1",
        "colab": {
          "base_uri": "https://localhost:8080/",
          "height": 35
        }
      },
      "source": [
        "e.score(valid_pred)"
      ],
      "execution_count": 0,
      "outputs": [
        {
          "output_type": "execute_result",
          "data": {
            "text/plain": [
              "0.4291943513152775"
            ]
          },
          "metadata": {
            "tags": []
          },
          "execution_count": 45
        }
      ]
    },
    {
      "cell_type": "code",
      "metadata": {
        "id": "QPNpUOBDgHSW",
        "colab_type": "code",
        "colab": {}
      },
      "source": [
        "0.4291943513152775\n",
        "0.4250293989838226"
      ],
      "execution_count": 0,
      "outputs": []
    },
    {
      "cell_type": "code",
      "metadata": {
        "id": "TA0wh1hPfJD4",
        "colab_type": "code",
        "colab": {}
      },
      "source": [
        "FI_v8 = pd.DataFrame({'Features':m_lgb.feature_name(),'FI':m_lgb.feature_importance(),'Gain':m_lgb.feature_importance('gain')})\n",
        "FI_v8.sort_values(by='Gain',ascending=False,inplace=True)"
      ],
      "execution_count": 0,
      "outputs": []
    },
    {
      "cell_type": "code",
      "metadata": {
        "id": "NXnISqAUfR3C",
        "colab_type": "code",
        "outputId": "2e016a52-b52a-4f2b-eb7f-4d09d04ec57c",
        "colab": {
          "base_uri": "https://localhost:8080/",
          "height": 868
        }
      },
      "source": [
        "FI_v8"
      ],
      "execution_count": 0,
      "outputs": [
        {
          "output_type": "execute_result",
          "data": {
            "text/html": [
              "<div>\n",
              "<style scoped>\n",
              "    .dataframe tbody tr th:only-of-type {\n",
              "        vertical-align: middle;\n",
              "    }\n",
              "\n",
              "    .dataframe tbody tr th {\n",
              "        vertical-align: top;\n",
              "    }\n",
              "\n",
              "    .dataframe thead th {\n",
              "        text-align: right;\n",
              "    }\n",
              "</style>\n",
              "<table border=\"1\" class=\"dataframe\">\n",
              "  <thead>\n",
              "    <tr style=\"text-align: right;\">\n",
              "      <th></th>\n",
              "      <th>Features</th>\n",
              "      <th>FI</th>\n",
              "      <th>Gain</th>\n",
              "    </tr>\n",
              "  </thead>\n",
              "  <tbody>\n",
              "    <tr>\n",
              "      <th>25</th>\n",
              "      <td>rmean_7_28</td>\n",
              "      <td>4156</td>\n",
              "      <td>2.885735e+08</td>\n",
              "    </tr>\n",
              "    <tr>\n",
              "      <th>23</th>\n",
              "      <td>rmean_7_7</td>\n",
              "      <td>3545</td>\n",
              "      <td>7.977996e+07</td>\n",
              "    </tr>\n",
              "    <tr>\n",
              "      <th>0</th>\n",
              "      <td>item_id</td>\n",
              "      <td>77382</td>\n",
              "      <td>2.535571e+07</td>\n",
              "    </tr>\n",
              "    <tr>\n",
              "      <th>26</th>\n",
              "      <td>rmean_28_28</td>\n",
              "      <td>3954</td>\n",
              "      <td>1.302783e+07</td>\n",
              "    </tr>\n",
              "    <tr>\n",
              "      <th>15</th>\n",
              "      <td>before_events</td>\n",
              "      <td>36515</td>\n",
              "      <td>6.537572e+06</td>\n",
              "    </tr>\n",
              "    <tr>\n",
              "      <th>16</th>\n",
              "      <td>after_events</td>\n",
              "      <td>35999</td>\n",
              "      <td>6.084248e+06</td>\n",
              "    </tr>\n",
              "    <tr>\n",
              "      <th>21</th>\n",
              "      <td>lag_7</td>\n",
              "      <td>1835</td>\n",
              "      <td>3.737031e+06</td>\n",
              "    </tr>\n",
              "    <tr>\n",
              "      <th>5</th>\n",
              "      <td>wday</td>\n",
              "      <td>1025</td>\n",
              "      <td>2.773991e+06</td>\n",
              "    </tr>\n",
              "    <tr>\n",
              "      <th>24</th>\n",
              "      <td>rmean_28_7</td>\n",
              "      <td>2624</td>\n",
              "      <td>1.865526e+06</td>\n",
              "    </tr>\n",
              "    <tr>\n",
              "      <th>1</th>\n",
              "      <td>dept_id</td>\n",
              "      <td>1867</td>\n",
              "      <td>1.374570e+06</td>\n",
              "    </tr>\n",
              "    <tr>\n",
              "      <th>8</th>\n",
              "      <td>event_name_1</td>\n",
              "      <td>2072</td>\n",
              "      <td>1.373128e+06</td>\n",
              "    </tr>\n",
              "    <tr>\n",
              "      <th>2</th>\n",
              "      <td>store_id</td>\n",
              "      <td>5216</td>\n",
              "      <td>1.204058e+06</td>\n",
              "    </tr>\n",
              "    <tr>\n",
              "      <th>17</th>\n",
              "      <td>sell_price</td>\n",
              "      <td>4566</td>\n",
              "      <td>1.082416e+06</td>\n",
              "    </tr>\n",
              "    <tr>\n",
              "      <th>20</th>\n",
              "      <td>mday</td>\n",
              "      <td>1653</td>\n",
              "      <td>6.987304e+05</td>\n",
              "    </tr>\n",
              "    <tr>\n",
              "      <th>18</th>\n",
              "      <td>week</td>\n",
              "      <td>2512</td>\n",
              "      <td>5.117870e+05</td>\n",
              "    </tr>\n",
              "    <tr>\n",
              "      <th>22</th>\n",
              "      <td>lag_28</td>\n",
              "      <td>1415</td>\n",
              "      <td>4.590423e+05</td>\n",
              "    </tr>\n",
              "    <tr>\n",
              "      <th>3</th>\n",
              "      <td>cat_id</td>\n",
              "      <td>619</td>\n",
              "      <td>3.320389e+05</td>\n",
              "    </tr>\n",
              "    <tr>\n",
              "      <th>7</th>\n",
              "      <td>year</td>\n",
              "      <td>1415</td>\n",
              "      <td>3.171424e+05</td>\n",
              "    </tr>\n",
              "    <tr>\n",
              "      <th>6</th>\n",
              "      <td>month</td>\n",
              "      <td>934</td>\n",
              "      <td>2.401201e+05</td>\n",
              "    </tr>\n",
              "    <tr>\n",
              "      <th>4</th>\n",
              "      <td>state_id</td>\n",
              "      <td>662</td>\n",
              "      <td>1.620163e+05</td>\n",
              "    </tr>\n",
              "    <tr>\n",
              "      <th>14</th>\n",
              "      <td>snap_WI</td>\n",
              "      <td>182</td>\n",
              "      <td>1.111130e+05</td>\n",
              "    </tr>\n",
              "    <tr>\n",
              "      <th>13</th>\n",
              "      <td>snap_TX</td>\n",
              "      <td>121</td>\n",
              "      <td>4.383771e+04</td>\n",
              "    </tr>\n",
              "    <tr>\n",
              "      <th>12</th>\n",
              "      <td>snap_CA</td>\n",
              "      <td>111</td>\n",
              "      <td>2.636112e+04</td>\n",
              "    </tr>\n",
              "    <tr>\n",
              "      <th>19</th>\n",
              "      <td>quarter</td>\n",
              "      <td>58</td>\n",
              "      <td>6.873126e+03</td>\n",
              "    </tr>\n",
              "    <tr>\n",
              "      <th>9</th>\n",
              "      <td>event_type_1</td>\n",
              "      <td>47</td>\n",
              "      <td>6.522777e+03</td>\n",
              "    </tr>\n",
              "    <tr>\n",
              "      <th>10</th>\n",
              "      <td>event_name_2</td>\n",
              "      <td>14</td>\n",
              "      <td>1.813281e+03</td>\n",
              "    </tr>\n",
              "    <tr>\n",
              "      <th>11</th>\n",
              "      <td>event_type_2</td>\n",
              "      <td>1</td>\n",
              "      <td>3.392680e+01</td>\n",
              "    </tr>\n",
              "  </tbody>\n",
              "</table>\n",
              "</div>"
            ],
            "text/plain": [
              "         Features     FI          Gain\n",
              "25     rmean_7_28   4156  2.885735e+08\n",
              "23      rmean_7_7   3545  7.977996e+07\n",
              "0         item_id  77382  2.535571e+07\n",
              "26    rmean_28_28   3954  1.302783e+07\n",
              "15  before_events  36515  6.537572e+06\n",
              "16   after_events  35999  6.084248e+06\n",
              "21          lag_7   1835  3.737031e+06\n",
              "5            wday   1025  2.773991e+06\n",
              "24     rmean_28_7   2624  1.865526e+06\n",
              "1         dept_id   1867  1.374570e+06\n",
              "8    event_name_1   2072  1.373128e+06\n",
              "2        store_id   5216  1.204058e+06\n",
              "17     sell_price   4566  1.082416e+06\n",
              "20           mday   1653  6.987304e+05\n",
              "18           week   2512  5.117870e+05\n",
              "22         lag_28   1415  4.590423e+05\n",
              "3          cat_id    619  3.320389e+05\n",
              "7            year   1415  3.171424e+05\n",
              "6           month    934  2.401201e+05\n",
              "4        state_id    662  1.620163e+05\n",
              "14        snap_WI    182  1.111130e+05\n",
              "13        snap_TX    121  4.383771e+04\n",
              "12        snap_CA    111  2.636112e+04\n",
              "19        quarter     58  6.873126e+03\n",
              "9    event_type_1     47  6.522777e+03\n",
              "10   event_name_2     14  1.813281e+03\n",
              "11   event_type_2      1  3.392680e+01"
            ]
          },
          "metadata": {
            "tags": []
          },
          "execution_count": 11
        }
      ]
    },
    {
      "cell_type": "code",
      "metadata": {
        "id": "nipm5IT9GUpV",
        "colab_type": "code",
        "colab": {}
      },
      "source": [
        "from sklearn.model_selection import train_test_split\n",
        "X_train, _ = train_test_split(X_train, train_size=0.8, stratify=X_train[['item_id','store_id']], random_state=666)"
      ],
      "execution_count": 0,
      "outputs": []
    },
    {
      "cell_type": "code",
      "metadata": {
        "id": "pL1G3n9eKSFG",
        "colab_type": "code",
        "colab": {}
      },
      "source": [
        "y_train = y_train.loc[X_train.index]\n",
        "w = w.loc[X_train.index]"
      ],
      "execution_count": 0,
      "outputs": []
    },
    {
      "cell_type": "code",
      "metadata": {
        "id": "efTE3_EJ7B0e",
        "colab_type": "code",
        "colab": {}
      },
      "source": [
        "sale_data.to_csv('processed_sales.csv',index=False)"
      ],
      "execution_count": 0,
      "outputs": []
    },
    {
      "cell_type": "code",
      "metadata": {
        "id": "1lqOmRh6xBPo",
        "colab_type": "code",
        "colab": {}
      },
      "source": [
        "from statsmodels.tsa.holtwinters import ExponentialSmoothing, Holt"
      ],
      "execution_count": 0,
      "outputs": []
    },
    {
      "cell_type": "code",
      "metadata": {
        "id": "aXXalPp1DD7N",
        "colab_type": "code",
        "colab": {}
      },
      "source": [
        "# 对汇总数据进行3阶指数平滑，用其参数作为单条序列的3阶EMA参数\n",
        "agg_data = pd.read_csv('sales_train_validation.csv')\n",
        "day_cols = [f'd_{day}' for day in range(1,1914)]\n",
        "total_sales = np.sum(agg_data[day_cols],axis=0).values\n",
        "del agg_data\n",
        "\n",
        "ema_3 = ExponentialSmoothing(total_sales[-1200:],\n",
        "                             trend='add',\n",
        "                             damped=True,\n",
        "                             seasonal='add',\n",
        "                             seasonal_periods=7)\n",
        "ema_3.fit(optimized=True,\n",
        "          use_boxcox=False,\n",
        "          use_brute=False)\n",
        "ema_3.params\n",
        "#  'smoothing_level': 0.32744779559422194\n",
        "# 'smoothing_seasonal': 0.008832911581660425\n",
        "# 'smoothing_slope': 0.025600714399262807\n",
        "# 'damping_slope': 3.854211620190662e-05"
      ],
      "execution_count": 0,
      "outputs": []
    },
    {
      "cell_type": "code",
      "metadata": {
        "id": "dNqqr9we5Aut",
        "colab_type": "code",
        "colab": {}
      },
      "source": [
        "def ema_3nd(series):\n",
        "  start_time = datetime.now()\n",
        "  ema = ExponentialSmoothing(series, trend='add', seasonal='add', damped=True, seasonal_periods=7).fit(optimized=True, use_brute=False)\n",
        "  end_time = datetime.now()\n",
        "  print(end_time - start_time)\n",
        "  return ema.fittedvalues"
      ],
      "execution_count": 0,
      "outputs": []
    },
    {
      "cell_type": "code",
      "metadata": {
        "id": "_JteoCvdCDts",
        "colab_type": "code",
        "colab": {}
      },
      "source": [
        "trial = sale_data[(sale_data.id == 'HOBBIES_1_095_CA_1_validation') | (sale_data.id == 'FOODS_3_707_WI_3_validation')]"
      ],
      "execution_count": 0,
      "outputs": []
    },
    {
      "cell_type": "code",
      "metadata": {
        "id": "8k56jHKIB5zQ",
        "colab_type": "code",
        "outputId": "9775543c-3561-4472-f53e-790807a6d2c3",
        "colab": {
          "base_uri": "https://localhost:8080/",
          "height": 52
        }
      },
      "source": [
        "trial['ema_3nd'] = trial[['id','sales']].groupby('id')['sales'].transform(ema_3nd)"
      ],
      "execution_count": 0,
      "outputs": [
        {
          "output_type": "stream",
          "text": [
            "0:00:00.039097\n",
            "0:00:00.037701\n"
          ],
          "name": "stdout"
        }
      ]
    },
    {
      "cell_type": "code",
      "metadata": {
        "id": "IOvTQ732SluJ",
        "colab_type": "code",
        "outputId": "fdda7596-bd8c-4808-ac8c-521e072962e5",
        "colab": {
          "base_uri": "https://localhost:8080/",
          "height": 295
        }
      },
      "source": [
        "plt.plot(trial[trial.id == 'HOBBIES_1_095_CA_1_validation']['sales'])\n",
        "plt.plot(trial[trial.id == 'HOBBIES_1_095_CA_1_validation']['ema_3nd'],color='green',alpha=0.4)\n",
        "plt.plot(trial[trial.id == 'HOBBIES_1_095_CA_1_validation']['rmean_7_7'],color='red',alpha=0.7)"
      ],
      "execution_count": 0,
      "outputs": [
        {
          "output_type": "execute_result",
          "data": {
            "text/plain": [
              "[<matplotlib.lines.Line2D at 0x7ffa6a0f1978>]"
            ]
          },
          "metadata": {
            "tags": []
          },
          "execution_count": 66
        },
        {
          "output_type": "display_data",
          "data": {
            "image/png": "[encoded data removed]",
            "text/plain": [
              "<Figure size 432x288 with 1 Axes>"
            ]
          },
          "metadata": {
            "tags": [],
            "needs_background": "light"
          }
        }
      ]
    },
    {
      "cell_type": "code",
      "metadata": {
        "id": "Z0Ev8XQz82cR",
        "colab_type": "code",
        "outputId": "51b52429-5ba2-4508-d751-cabff524f8c5",
        "colab": {
          "base_uri": "https://localhost:8080/",
          "height": 283
        }
      },
      "source": [
        "originial_sale_data = pd.read_csv('sales_train_validation.csv')\n",
        "item1 = originial_sale_data[originial_sale_data.id == 'HOUSEHOLD_1_020_WI_2_validation'][[f'd_{i}' for i in range(1,1914)]].values[0][-44:-28]\n",
        "plt.plot(item1)"
      ],
      "execution_count": 0,
      "outputs": [
        {
          "output_type": "execute_result",
          "data": {
            "text/plain": [
              "[<matplotlib.lines.Line2D at 0x7f13d200a9b0>]"
            ]
          },
          "metadata": {
            "tags": []
          },
          "execution_count": 6
        },
        {
          "output_type": "display_data",
          "data": {
            "image/png": "[encoded data removed]",
            "text/plain": [
              "<Figure size 432x288 with 1 Axes>"
            ]
          },
          "metadata": {
            "tags": [],
            "needs_background": "light"
          }
        }
      ]
    },
    {
      "cell_type": "code",
      "metadata": {
        "id": "sNrZg4JX6DSI",
        "colab_type": "code",
        "colab": {}
      },
      "source": [
        "from statsmodels.graphics.tsaplots import plot_acf,plot_pacf\n",
        "from statsmodels.stats.diagnostic import unitroot_adf\n",
        "from statsmodels.api import tsa"
      ],
      "execution_count": 0,
      "outputs": []
    },
    {
      "cell_type": "code",
      "metadata": {
        "id": "oSK4IzD-cOTO",
        "colab_type": "code",
        "colab": {}
      },
      "source": [
        "item1_dc = tsa.seasonal_decompose(item1,model='additive',freq=7,two_sided=True)"
      ],
      "execution_count": 0,
      "outputs": []
    },
    {
      "cell_type": "code",
      "metadata": {
        "id": "jbClp2vOdHaA",
        "colab_type": "code",
        "outputId": "021db7cb-73c3-4bee-d221-3ba7230cd42f",
        "colab": {
          "base_uri": "https://localhost:8080/",
          "height": 577
        }
      },
      "source": [
        "item1_dc"
      ],
      "execution_count": 0,
      "outputs": [
        {
          "output_type": "execute_result",
          "data": {
            "image/png": "[encoded data removed]",
            "text/plain": [
              "<Figure size 432x288 with 4 Axes>"
            ]
          },
          "metadata": {
            "tags": []
          },
          "execution_count": 17
        },
        {
          "output_type": "display_data",
          "data": {
            "image/png": "[encoded data removed]",
            "text/plain": [
              "<Figure size 432x288 with 4 Axes>"
            ]
          },
          "metadata": {
            "tags": [],
            "needs_background": "light"
          }
        }
      ]
    },
    {
      "cell_type": "code",
      "metadata": {
        "id": "vV8YGWt_eGjE",
        "colab_type": "code",
        "colab": {}
      },
      "source": [
        "def components_strength(series):\n",
        "    result = tsa.seasonal_decompose(series,model='additive',freq=7)\n",
        "    seasonality = result.seasonal[~np.isnan(result.seasonal)][3:-3]\n",
        "    trend = result.trend[~np.isnan(result.trend)]\n",
        "    resid = result.resid[~np.isnan(result.resid)]\n",
        "    score_s = max(0,resid.std() / (seasonality + resid).std())\n",
        "    score_t = max(0,resid.std() / (trend + resid).std())\n",
        "    return score_s,score_t"
      ],
      "execution_count": 0,
      "outputs": []
    },
    {
      "cell_type": "code",
      "metadata": {
        "id": "f0p3ofucicz8",
        "colab_type": "code",
        "colab": {}
      },
      "source": [
        "sales_cols = [f'd_{day}' for day in range(1000,1914)]\n",
        "scoresList_s = []\n",
        "scoresList_t = []\n",
        "for item in originial_sale_data.id:\n",
        "    score_s, score_t = components_strength(originial_sale_data[originial_sale_data.id == item][sales_cols].values[0])\n",
        "    scoresList_s.append(score_s)\n",
        "    scoresList_t.append(score_t)\n",
        "score_df = pd.DataFrame({'s':scoresList_s,'t':scoresList_t})"
      ],
      "execution_count": 0,
      "outputs": []
    },
    {
      "cell_type": "code",
      "metadata": {
        "id": "2PfnKIP3qThj",
        "colab_type": "code",
        "outputId": "ccad6657-b84c-45ef-ad60-e8e28b5804c1",
        "colab": {
          "base_uri": "https://localhost:8080/",
          "height": 291
        }
      },
      "source": [
        "score_df.describe()"
      ],
      "execution_count": 0,
      "outputs": [
        {
          "output_type": "execute_result",
          "data": {
            "text/html": [
              "<div>\n",
              "<style scoped>\n",
              "    .dataframe tbody tr th:only-of-type {\n",
              "        vertical-align: middle;\n",
              "    }\n",
              "\n",
              "    .dataframe tbody tr th {\n",
              "        vertical-align: top;\n",
              "    }\n",
              "\n",
              "    .dataframe thead th {\n",
              "        text-align: right;\n",
              "    }\n",
              "</style>\n",
              "<table border=\"1\" class=\"dataframe\">\n",
              "  <thead>\n",
              "    <tr style=\"text-align: right;\">\n",
              "      <th></th>\n",
              "      <th>s</th>\n",
              "      <th>t</th>\n",
              "    </tr>\n",
              "  </thead>\n",
              "  <tbody>\n",
              "    <tr>\n",
              "      <th>count</th>\n",
              "      <td>30490.000000</td>\n",
              "      <td>30490.000000</td>\n",
              "    </tr>\n",
              "    <tr>\n",
              "      <th>mean</th>\n",
              "      <td>0.984942</td>\n",
              "      <td>0.852120</td>\n",
              "    </tr>\n",
              "    <tr>\n",
              "      <th>std</th>\n",
              "      <td>0.023245</td>\n",
              "      <td>0.143794</td>\n",
              "    </tr>\n",
              "    <tr>\n",
              "      <th>min</th>\n",
              "      <td>0.000000</td>\n",
              "      <td>0.000000</td>\n",
              "    </tr>\n",
              "    <tr>\n",
              "      <th>25%</th>\n",
              "      <td>0.982755</td>\n",
              "      <td>0.817905</td>\n",
              "    </tr>\n",
              "    <tr>\n",
              "      <th>50%</th>\n",
              "      <td>0.991119</td>\n",
              "      <td>0.880997</td>\n",
              "    </tr>\n",
              "    <tr>\n",
              "      <th>75%</th>\n",
              "      <td>0.995050</td>\n",
              "      <td>0.913014</td>\n",
              "    </tr>\n",
              "    <tr>\n",
              "      <th>max</th>\n",
              "      <td>0.999858</td>\n",
              "      <td>15.037405</td>\n",
              "    </tr>\n",
              "  </tbody>\n",
              "</table>\n",
              "</div>"
            ],
            "text/plain": [
              "                  s             t\n",
              "count  30490.000000  30490.000000\n",
              "mean       0.984942      0.852120\n",
              "std        0.023245      0.143794\n",
              "min        0.000000      0.000000\n",
              "25%        0.982755      0.817905\n",
              "50%        0.991119      0.880997\n",
              "75%        0.995050      0.913014\n",
              "max        0.999858     15.037405"
            ]
          },
          "metadata": {
            "tags": []
          },
          "execution_count": 61
        }
      ]
    },
    {
      "cell_type": "code",
      "metadata": {
        "id": "3LVXf8DZ7Ogo",
        "colab_type": "code",
        "colab": {}
      },
      "source": [
        "plot_acf(item1)"
      ],
      "execution_count": 0,
      "outputs": []
    },
    {
      "cell_type": "code",
      "metadata": {
        "id": "RxwT7Xof78rW",
        "colab_type": "code",
        "colab": {}
      },
      "source": [
        "plot_acf(np.diff(item1))"
      ],
      "execution_count": 0,
      "outputs": []
    },
    {
      "cell_type": "code",
      "metadata": {
        "id": "PEYEIjZF8g47",
        "colab_type": "code",
        "outputId": "1f6f9d40-0beb-491d-fcfa-2b13c5a5ac6f",
        "colab": {
          "base_uri": "https://localhost:8080/",
          "height": 159
        }
      },
      "source": [
        "unitroot_adf(item1)"
      ],
      "execution_count": 0,
      "outputs": [
        {
          "output_type": "execute_result",
          "data": {
            "text/plain": [
              "(-3.2727157622769814,\n",
              " 0.016143012300946773,\n",
              " 19,\n",
              " 880,\n",
              " {'1%': -3.4378028154245515,\n",
              "  '10%': -2.568521809142562,\n",
              "  '5%': -2.864829958032025},\n",
              " 2938.477288686696)"
            ]
          },
          "metadata": {
            "tags": []
          },
          "execution_count": 39
        }
      ]
    },
    {
      "cell_type": "code",
      "metadata": {
        "id": "BNOSkXjSSkc-",
        "colab_type": "code",
        "colab": {}
      },
      "source": [
        "from typing import Union\n",
        "import numpy as np\n",
        "import pandas as pd\n",
        "from tqdm.auto import tqdm as tqdm\n",
        "\n",
        "class WRMSSEEvaluator(object):\n",
        "    \n",
        "    group_ids = ( 'all_id', 'state_id', 'store_id', 'cat_id', 'dept_id', 'item_id',\n",
        "        ['state_id', 'cat_id'],  ['state_id', 'dept_id'], ['store_id', 'cat_id'],\n",
        "        ['store_id', 'dept_id'], ['item_id', 'state_id'], ['item_id', 'store_id'])\n",
        "\n",
        "    def __init__(self, \n",
        "                 train_df: pd.DataFrame, \n",
        "                 valid_df: pd.DataFrame, \n",
        "                 calendar: pd.DataFrame, \n",
        "                 prices: pd.DataFrame):\n",
        "        '''\n",
        "        intialize and calculate weights\n",
        "        '''\n",
        "        self.calendar = calendar\n",
        "        self.prices = prices\n",
        "        self.train_df = train_df\n",
        "        self.valid_df = valid_df\n",
        "        self.train_target_columns = [i for i in self.train_df.columns if i.startswith('d_')]\n",
        "        self.weight_columns = self.train_df.iloc[:, -28:].columns.tolist()\n",
        "\n",
        "        self.train_df['all_id'] = \"all\"\n",
        "\n",
        "        self.id_columns = [i for i in self.train_df.columns if not i.startswith('d_')]\n",
        "        self.valid_target_columns = [i for i in self.valid_df.columns if i.startswith('d_')]\n",
        "\n",
        "        if not all([c in self.valid_df.columns for c in self.id_columns]):\n",
        "            self.valid_df = pd.concat([self.train_df[self.id_columns], self.valid_df],\n",
        "                                      axis=1, \n",
        "                                      sort=False)\n",
        "        self.train_series = self.trans_30490_to_42840(self.train_df, \n",
        "                                                      self.train_target_columns, \n",
        "                                                      self.group_ids)\n",
        "        self.valid_series = self.trans_30490_to_42840(self.valid_df, \n",
        "                                                      self.valid_target_columns, \n",
        "                                                      self.group_ids)\n",
        "        self.weights = self.get_weight_df()\n",
        "        self.scale = self.get_scale()\n",
        "        self.train_series = None\n",
        "        self.train_df = None\n",
        "        self.prices = None\n",
        "        self.calendar = None\n",
        "\n",
        "    def get_scale(self):\n",
        "        '''\n",
        "        scaling factor for each series ignoring starting zeros\n",
        "        '''\n",
        "        scales = []\n",
        "        for i in tqdm(range(len(self.train_series))):\n",
        "            series = self.train_series.iloc[i].values\n",
        "            series = series[np.argmax(series!=0):]\n",
        "            scale = ((series[1:] - series[:-1]) ** 2).mean()\n",
        "            scales.append(scale)\n",
        "        return np.array(scales)\n",
        "    \n",
        "    def get_name(self, i):\n",
        "        '''\n",
        "        convert a str or list of strings to unique string \n",
        "        used for naming each of 42840 series\n",
        "        '''\n",
        "        if type(i) == str or type(i) == int:\n",
        "            return str(i)\n",
        "        else:\n",
        "            return \"--\".join(i)\n",
        "    \n",
        "    def get_weight_df(self) -> pd.DataFrame:\n",
        "        \"\"\"\n",
        "        returns weights for each of 42840 series in a dataFrame\n",
        "        \"\"\"\n",
        "        day_to_week = self.calendar.set_index(\"d\")[\"wm_yr_wk\"].to_dict()\n",
        "        weight_df = self.train_df[[\"item_id\", \"store_id\"] + self.weight_columns].set_index(\n",
        "            [\"item_id\", \"store_id\"]\n",
        "        )\n",
        "        weight_df = (\n",
        "            weight_df.stack().reset_index().rename(columns={\"level_2\": \"d\", 0: \"value\"})\n",
        "        )\n",
        "        weight_df[\"wm_yr_wk\"] = weight_df[\"d\"].map(day_to_week)\n",
        "        weight_df = weight_df.merge(\n",
        "            self.prices, how=\"left\", on=[\"item_id\", \"store_id\", \"wm_yr_wk\"]\n",
        "        )\n",
        "        weight_df[\"value\"] = weight_df[\"value\"] * weight_df[\"sell_price\"]\n",
        "        weight_df = weight_df.set_index([\"item_id\", \"store_id\", \"d\"]).unstack(level=2)[\n",
        "            \"value\"\n",
        "        ]\n",
        "        weight_df = weight_df.loc[\n",
        "            zip(self.train_df.item_id, self.train_df.store_id), :\n",
        "        ].reset_index(drop=True)\n",
        "        weight_df = pd.concat(\n",
        "            [self.train_df[self.id_columns], weight_df], axis=1, sort=False\n",
        "        )\n",
        "        weights_map = {}\n",
        "        for i, group_id in enumerate(tqdm(self.group_ids, leave=False)):\n",
        "            lv_weight = weight_df.groupby(group_id)[self.weight_columns].sum().sum(axis=1)\n",
        "            lv_weight = lv_weight / lv_weight.sum()\n",
        "            for i in range(len(lv_weight)):\n",
        "                weights_map[self.get_name(lv_weight.index[i])] = np.array(\n",
        "                    [lv_weight.iloc[i]]\n",
        "                )\n",
        "        weights = pd.DataFrame(weights_map).T / len(self.group_ids)\n",
        "\n",
        "        return weights\n",
        "\n",
        "    def trans_30490_to_42840(self, df, cols, group_ids, dis=False):\n",
        "        '''\n",
        "        transform 30490 sries to all 42840 series\n",
        "        '''\n",
        "        series_map = {}\n",
        "        for i, group_id in enumerate(tqdm(self.group_ids, leave=False, disable=dis)):\n",
        "            tr = df.groupby(group_id)[cols].sum()\n",
        "            for i in range(len(tr)):\n",
        "                series_map[self.get_name(tr.index[i])] = tr.iloc[i].values\n",
        "        return pd.DataFrame(series_map).T\n",
        "    \n",
        "    def get_rmsse(self, valid_preds) -> pd.Series:\n",
        "        '''\n",
        "        returns rmsse scores for all 42840 series\n",
        "        '''\n",
        "        score = ((self.valid_series - valid_preds) ** 2).mean(axis=1)\n",
        "        rmsse = (score / self.scale).map(np.sqrt)\n",
        "        return rmsse\n",
        "\n",
        "    def score(self, valid_preds: Union[pd.DataFrame, np.ndarray]) -> float:\n",
        "        assert self.valid_df[self.valid_target_columns].shape == valid_preds.shape\n",
        "\n",
        "        if isinstance(valid_preds, np.ndarray):\n",
        "            valid_preds = pd.DataFrame(valid_preds, columns=self.valid_target_columns)\n",
        "\n",
        "        valid_preds = pd.concat([self.valid_df[self.id_columns], valid_preds],\n",
        "                                axis=1, \n",
        "                                sort=False)\n",
        "        valid_preds = self.trans_30490_to_42840(valid_preds, \n",
        "                                                self.valid_target_columns, \n",
        "                                                self.group_ids, \n",
        "                                                True)\n",
        "        self.rmsse = self.get_rmsse(valid_preds)\n",
        "        self.contributors = pd.concat([self.weights, self.rmsse], \n",
        "                                      axis=1, \n",
        "                                      sort=False).prod(axis=1)\n",
        "        return np.sum(self.contributors)"
      ],
      "execution_count": 0,
      "outputs": []
    },
    {
      "cell_type": "code",
      "metadata": {
        "id": "gybTNWyTSuHj",
        "colab_type": "code",
        "colab": {}
      },
      "source": [
        "train_df = pd.read_csv('sales_train_validation.csv')\n",
        "calendar = pd.read_csv('calendar.csv')\n",
        "prices = pd.read_csv('sell_prices.csv')"
      ],
      "execution_count": 0,
      "outputs": []
    },
    {
      "cell_type": "code",
      "metadata": {
        "id": "5JaFbsk9S62P",
        "colab_type": "code",
        "outputId": "2fe48c10-e11c-4f79-f57f-78c0a275bcfb",
        "colab": {
          "base_uri": "https://localhost:8080/",
          "height": 67,
          "referenced_widgets": [
            "4befb238dac749a5bf0eeff1eba7e47a",
            "a68765aa970b402cb81b757745b5bcd1",
            "0c2eb5fc612747caa07e18fa7f16ae1c",
            "2dee02445166474cb514f7ad16ae3941",
            "a5ced1f881fc4b4a9b38ea7c01a7202e",
            "ba3c21c04af34478a7a50f0ec08785f2",
            "855d24b7120d4e55a3bbd19535863745",
            "b10b4acc1c01437981eec9f9742e34f0",
            "5332db6745744e2fb83c2b23e8710f00",
            "c839322a67fb46198757568e988f0cd2",
            "b950124c11de45e8bd43585250b8d521",
            "a75ccd6201ee456eb1e43e67536eec14",
            "33a0e173703b4103bdd277cfad40d3f9",
            "46cbbb32aba341b29168d4022193dd6f",
            "0710e00084a6410eae2ebbe9a80ac04b",
            "e6b1eb0cc5f142fc9ddade758915ef93",
            "eaa29dc8c3124a8ebf9a38fa78985b7e",
            "cde960e569cb44a39369c954480b5095",
            "9caa4c9733e341d68eb4541c97948bd9",
            "9f215a382b354268a822708e0bdadaac",
            "e3687dfa561b401d926dd0ed3e572e75",
            "f3d68c234f854d7eb0538b3a392744b9",
            "814ecf8ee7254b54a4810f0a726e19be",
            "040df5f294af4bfc853e6bab71c34590",
            "2a0be86bfb3a436b8a9f197c46028f63",
            "7fa20e6c4bbb431f8cff91d4f4aee8c5",
            "a8b9f769b9264a3488a2e8f640d0b73e",
            "1254ec9408c04c278fc49248d0bdc8ba",
            "c5c7dbc1714543afbf71fb73e15fc6f5",
            "710317692c314d73b7e90d97e1207c9b",
            "3d21cae7ecee4d48bb600d73a6a85521",
            "cfab5a1738ca43e984a8b284b33dd2fd"
          ]
        }
      },
      "source": [
        "train_fold_df = train_df.iloc[:, :-28]\n",
        "valid_fold_df = train_df.iloc[:, -28:].copy()\n",
        "e = WRMSSEEvaluator(train_fold_df, valid_fold_df, calendar, prices)"
      ],
      "execution_count": 0,
      "outputs": [
        {
          "output_type": "display_data",
          "data": {
            "application/vnd.jupyter.widget-view+json": {
              "model_id": "4befb238dac749a5bf0eeff1eba7e47a",
              "version_minor": 0,
              "version_major": 2
            },
            "text/plain": [
              "HBox(children=(FloatProgress(value=0.0, max=12.0), HTML(value='')))"
            ]
          },
          "metadata": {
            "tags": []
          }
        },
        {
          "output_type": "stream",
          "text": [
            "\r"
          ],
          "name": "stdout"
        },
        {
          "output_type": "display_data",
          "data": {
            "application/vnd.jupyter.widget-view+json": {
              "model_id": "5332db6745744e2fb83c2b23e8710f00",
              "version_minor": 0,
              "version_major": 2
            },
            "text/plain": [
              "HBox(children=(FloatProgress(value=0.0, max=12.0), HTML(value='')))"
            ]
          },
          "metadata": {
            "tags": []
          }
        },
        {
          "output_type": "stream",
          "text": [
            "\r"
          ],
          "name": "stdout"
        },
        {
          "output_type": "display_data",
          "data": {
            "application/vnd.jupyter.widget-view+json": {
              "model_id": "eaa29dc8c3124a8ebf9a38fa78985b7e",
              "version_minor": 0,
              "version_major": 2
            },
            "text/plain": [
              "HBox(children=(FloatProgress(value=0.0, max=12.0), HTML(value='')))"
            ]
          },
          "metadata": {
            "tags": []
          }
        },
        {
          "output_type": "stream",
          "text": [
            "\r"
          ],
          "name": "stdout"
        },
        {
          "output_type": "display_data",
          "data": {
            "application/vnd.jupyter.widget-view+json": {
              "model_id": "2a0be86bfb3a436b8a9f197c46028f63",
              "version_minor": 0,
              "version_major": 2
            },
            "text/plain": [
              "HBox(children=(FloatProgress(value=0.0, max=42840.0), HTML(value='')))"
            ]
          },
          "metadata": {
            "tags": []
          }
        },
        {
          "output_type": "stream",
          "text": [
            "\n"
          ],
          "name": "stdout"
        }
      ]
    },
    {
      "cell_type": "code",
      "metadata": {
        "id": "-FADXsX5T-1V",
        "colab_type": "code",
        "colab": {}
      },
      "source": [
        "valid_preds = pd.read_csv('submission_v7.csv')\n",
        "valid_preds = valid_preds.loc[:30489,[f'F{i}' for i in range(1,29)]]"
      ],
      "execution_count": 0,
      "outputs": []
    },
    {
      "cell_type": "code",
      "metadata": {
        "id": "EftJFj0RUZ_f",
        "colab_type": "code",
        "outputId": "08869701-da17-4b08-c4a3-9e26fa3a3ee2",
        "colab": {
          "base_uri": "https://localhost:8080/",
          "height": 141
        }
      },
      "source": [
        "valid_preds = np.random.randint(4, size=valid_fold_df.shape)"
      ],
      "execution_count": 0,
      "outputs": [
        {
          "output_type": "execute_result",
          "data": {
            "text/plain": [
              "array([[0, 1, 3, ..., 3, 0, 1],\n",
              "       [2, 1, 2, ..., 3, 1, 2],\n",
              "       [3, 1, 0, ..., 1, 0, 1],\n",
              "       ...,\n",
              "       [1, 3, 0, ..., 3, 2, 1],\n",
              "       [1, 3, 1, ..., 0, 1, 0],\n",
              "       [3, 3, 0, ..., 3, 0, 1]])"
            ]
          },
          "metadata": {
            "tags": []
          },
          "execution_count": 24
        }
      ]
    },
    {
      "cell_type": "code",
      "metadata": {
        "id": "Ztr8FeDqUGU0",
        "colab_type": "code",
        "outputId": "99b47525-519d-49e9-87b0-d18da01c3230",
        "colab": {
          "base_uri": "https://localhost:8080/",
          "height": 35
        }
      },
      "source": [
        "e.score(valid_preds.values)"
      ],
      "execution_count": 0,
      "outputs": [
        {
          "output_type": "execute_result",
          "data": {
            "text/plain": [
              "2.587377575691927"
            ]
          },
          "metadata": {
            "tags": []
          },
          "execution_count": 32
        }
      ]
    }
  ]
}